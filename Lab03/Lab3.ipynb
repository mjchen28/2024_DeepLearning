{
 "cells": [
  {
   "cell_type": "markdown",
   "id": "69eea4f8-2ce0-4b9b-a4ee-623f451b83b7",
   "metadata": {},
   "source": [
    "# Task description\n",
    "- Translate text from Chinese to English.\n",
    "- Main goal: Get familiar with transformer."
   ]
  },
  {
   "cell_type": "markdown",
   "id": "0091accb-f7b7-4209-9514-52be2cb5b283",
   "metadata": {},
   "source": [
    "## install the required package"
   ]
  },
  {
   "cell_type": "code",
   "execution_count": 26,
   "id": "51ef449b-c921-42a5-a644-6cd78f11b8bf",
   "metadata": {
    "scrolled": true
   },
   "outputs": [],
   "source": [
    "# ! pwd"
   ]
  },
  {
   "cell_type": "markdown",
   "id": "ca6cc633-1f74-475c-a748-d372a7330332",
   "metadata": {},
   "source": [
    "## Import package"
   ]
  },
  {
   "cell_type": "code",
   "execution_count": 27,
   "id": "702d9c8d-9bc2-4bbb-8251-3c861b90bf20",
   "metadata": {},
   "outputs": [],
   "source": [
    "import os\n",
    "import json\n",
    "import math\n",
    "import random\n",
    "import numpy as np\n",
    "import pandas as pd\n",
    "import matplotlib.pyplot as plt\n",
    "import torch\n",
    "import torch.nn as nn\n",
    "import torch.nn.functional as F\n",
    "from torch.utils.data import DataLoader, Dataset\n",
    "import torch_optimizer as optim\n",
    "from torchsummary import summary\n",
    "from tqdm import tqdm\n",
    "from torch_optimizer import Lookahead"
   ]
  },
  {
   "cell_type": "markdown",
   "id": "27c8b390",
   "metadata": {},
   "source": [
    "# Configuration"
   ]
  },
  {
   "cell_type": "code",
   "execution_count": 28,
   "id": "17f71ad7",
   "metadata": {},
   "outputs": [
    {
     "name": "stdout",
     "output_type": "stream",
     "text": [
      "Using device :  cuda\n"
     ]
    }
   ],
   "source": [
    "config = {\n",
    "    # model architecture\n",
    "    \"embedded_dim\": 256,\n",
    "    \"head_num\": 1,\n",
    "    \"ff_hidden_dim\": 512,\n",
    "    \"encoder_num\": 2,\n",
    "    \"decoder_num\": 1,\n",
    "\n",
    "    # training configuration\n",
    "    \"device\": torch.device(\"cuda\" if torch.cuda.is_available() else \"cpu\"),\n",
    "    \"batch_size\": 32,\n",
    "    \"learning_rate\": 3e-4,\n",
    "    \"eta_min\": 5e-5,\n",
    "    \"epoch_num\": 200,\n",
    "    \"regularization\": 5e-5,\n",
    "    \"dropout_rate\": 0.3,\n",
    "    \"smoothing_rate\": 0.1,\n",
    "    \"distillation_rate\":0.0,\n",
    "    \"augmentation\": True, \n",
    "}\n",
    "\n",
    "print(\"Using device : \", config[\"device\"])"
   ]
  },
  {
   "cell_type": "markdown",
   "id": "e415f246-3192-454a-94c7-55681071539a",
   "metadata": {},
   "source": [
    "## Fix random seed"
   ]
  },
  {
   "cell_type": "code",
   "execution_count": 29,
   "id": "28a05b8e-a4a1-4f56-b2be-7f2c36210ba3",
   "metadata": {},
   "outputs": [],
   "source": [
    "def set_seed(seed):\n",
    "    np.random.seed(seed)\n",
    "    random.seed(seed)\n",
    "    torch.manual_seed(seed)\n",
    "    if torch.cuda.is_available():\n",
    "        torch.cuda.manual_seed(seed)\n",
    "        torch.cuda.manual_seed_all(seed)\n",
    "    torch.backends.cudnn.benchmark = False\n",
    "    torch.backends.cudnn.deterministic = True\n",
    "\n",
    "set_seed(87)"
   ]
  },
  {
   "attachments": {},
   "cell_type": "markdown",
   "id": "28bb849a-a87a-462d-ac8b-4dacb1183c9f",
   "metadata": {},
   "source": [
    "# Data\n",
    "- Original dataset is [20k-en-zh-translation-pinyin-hsk](https://huggingface.co/datasets/swaption2009/20k-en-zh-translation-pinyin-hsk)\n",
    "- We select 50000 English-Chinese sentence pairs for translation task\n",
    "\n",
    "- Args:\n",
    "  - BATCH_SIZE\n",
    "  - data_dir: the path to the given translation dataset\n",
    "- Tokenizer: BertTokenizer\n",
    "  - encode: convert text to token ID\n",
    "  - decode: convert token ID back to text\n",
    "- Add paddings\n",
    "  - make all the sentences the same length by inserting token ID = PAD_IDX at the back"
   ]
  },
  {
   "cell_type": "code",
   "execution_count": 30,
   "id": "379f6d70-9e58-4c43-a739-45da13f2738d",
   "metadata": {},
   "outputs": [],
   "source": [
    "data_dir = \"./translation_data.json\"\n",
    "augmented_data_dir = \"./augmented_data.json\"\n",
    "distillation_data_dir = \"./distillated_data.json\"\n",
    "BATCH_SIZE = config[\"batch_size\"]"
   ]
  },
  {
   "cell_type": "markdown",
   "id": "27fdb5b1-fb5d-4f26-97a1-b19dea9c9254",
   "metadata": {},
   "source": [
    "## Show the raw data"
   ]
  },
  {
   "cell_type": "code",
   "execution_count": 31,
   "id": "cf7de47d-cf72-4915-b700-31f45ffe14d0",
   "metadata": {},
   "outputs": [
    {
     "data": {
      "text/html": [
       "<div>\n",
       "<style scoped>\n",
       "    .dataframe tbody tr th:only-of-type {\n",
       "        vertical-align: middle;\n",
       "    }\n",
       "\n",
       "    .dataframe tbody tr th {\n",
       "        vertical-align: top;\n",
       "    }\n",
       "\n",
       "    .dataframe thead th {\n",
       "        text-align: right;\n",
       "    }\n",
       "</style>\n",
       "<table border=\"1\" class=\"dataframe\">\n",
       "  <thead>\n",
       "    <tr style=\"text-align: right;\">\n",
       "      <th></th>\n",
       "      <th>english</th>\n",
       "      <th>chinese</th>\n",
       "    </tr>\n",
       "  </thead>\n",
       "  <tbody>\n",
       "    <tr>\n",
       "      <th>0</th>\n",
       "      <td>Slowly and not without struggle, America began...</td>\n",
       "      <td>美国缓慢地开始倾听，但并非没有艰难曲折。</td>\n",
       "    </tr>\n",
       "    <tr>\n",
       "      <th>1</th>\n",
       "      <td>Dithering is a technique that blends your colo...</td>\n",
       "      <td>抖动是关于颜色混合的技术，使你的作品看起来更圆滑，或者只是创作有趣的材质。</td>\n",
       "    </tr>\n",
       "    <tr>\n",
       "      <th>2</th>\n",
       "      <td>This paper discusses the petrologic characteri...</td>\n",
       "      <td>本文以珲春早第三纪含煤盆地的地质构违背景为依据，分析了煤系地层的岩石学特征。</td>\n",
       "    </tr>\n",
       "    <tr>\n",
       "      <th>3</th>\n",
       "      <td>The second encounter relates to my grandfather...</td>\n",
       "      <td>第二次事件跟我爷爷的宝贝匣子有关。</td>\n",
       "    </tr>\n",
       "    <tr>\n",
       "      <th>4</th>\n",
       "      <td>One way to address these challenges would be t...</td>\n",
       "      <td>解决这些挑战的途径包括依照麻瓜在南非的经验设立真相与和解委员会。</td>\n",
       "    </tr>\n",
       "    <tr>\n",
       "      <th>...</th>\n",
       "      <td>...</td>\n",
       "      <td>...</td>\n",
       "    </tr>\n",
       "    <tr>\n",
       "      <th>49995</th>\n",
       "      <td>You were too obtuse to take the hint.</td>\n",
       "      <td>你太迟钝了， 没有理解这种暗示。</td>\n",
       "    </tr>\n",
       "    <tr>\n",
       "      <th>49996</th>\n",
       "      <td>Therefore, in the event the mortgagee of ship ...</td>\n",
       "      <td>因此，在这种情况下船舶抵押权人放弃了债务人提供的担保就会影响其他担保人的利益，导致抵押权人的...</td>\n",
       "    </tr>\n",
       "    <tr>\n",
       "      <th>49997</th>\n",
       "      <td>Fourth, puncture administrative bloat.</td>\n",
       "      <td>第四，削弱行政膨胀。</td>\n",
       "    </tr>\n",
       "    <tr>\n",
       "      <th>49998</th>\n",
       "      <td>Massimo Oddo says he won't be thinking about h...</td>\n",
       "      <td>马西莫。奥多声明他不会在世界杯决赛圈比赛结束之前考虑未来的俱乐部。</td>\n",
       "    </tr>\n",
       "    <tr>\n",
       "      <th>49999</th>\n",
       "      <td>The observing mortals' statue The uncompleted ...</td>\n",
       "      <td>《冷眼观俗尘》 尚未完工的佛祖雕像，超凡脱俗的神情，似乎在禅悟街巷里匆忙行人的百态人生。</td>\n",
       "    </tr>\n",
       "  </tbody>\n",
       "</table>\n",
       "<p>50000 rows × 2 columns</p>\n",
       "</div>"
      ],
      "text/plain": [
       "                                                 english  \\\n",
       "0      Slowly and not without struggle, America began...   \n",
       "1      Dithering is a technique that blends your colo...   \n",
       "2      This paper discusses the petrologic characteri...   \n",
       "3      The second encounter relates to my grandfather...   \n",
       "4      One way to address these challenges would be t...   \n",
       "...                                                  ...   \n",
       "49995              You were too obtuse to take the hint.   \n",
       "49996  Therefore, in the event the mortgagee of ship ...   \n",
       "49997             Fourth, puncture administrative bloat.   \n",
       "49998  Massimo Oddo says he won't be thinking about h...   \n",
       "49999  The observing mortals' statue The uncompleted ...   \n",
       "\n",
       "                                                 chinese  \n",
       "0                                   美国缓慢地开始倾听，但并非没有艰难曲折。  \n",
       "1                  抖动是关于颜色混合的技术，使你的作品看起来更圆滑，或者只是创作有趣的材质。  \n",
       "2                 本文以珲春早第三纪含煤盆地的地质构违背景为依据，分析了煤系地层的岩石学特征。  \n",
       "3                                      第二次事件跟我爷爷的宝贝匣子有关。  \n",
       "4                       解决这些挑战的途径包括依照麻瓜在南非的经验设立真相与和解委员会。  \n",
       "...                                                  ...  \n",
       "49995                                   你太迟钝了， 没有理解这种暗示。  \n",
       "49996  因此，在这种情况下船舶抵押权人放弃了债务人提供的担保就会影响其他担保人的利益，导致抵押权人的...  \n",
       "49997                                         第四，削弱行政膨胀。  \n",
       "49998                  马西莫。奥多声明他不会在世界杯决赛圈比赛结束之前考虑未来的俱乐部。  \n",
       "49999       《冷眼观俗尘》 尚未完工的佛祖雕像，超凡脱俗的神情，似乎在禅悟街巷里匆忙行人的百态人生。  \n",
       "\n",
       "[50000 rows x 2 columns]"
      ]
     },
     "metadata": {},
     "output_type": "display_data"
    },
    {
     "data": {
      "text/html": [
       "<div>\n",
       "<style scoped>\n",
       "    .dataframe tbody tr th:only-of-type {\n",
       "        vertical-align: middle;\n",
       "    }\n",
       "\n",
       "    .dataframe tbody tr th {\n",
       "        vertical-align: top;\n",
       "    }\n",
       "\n",
       "    .dataframe thead th {\n",
       "        text-align: right;\n",
       "    }\n",
       "</style>\n",
       "<table border=\"1\" class=\"dataframe\">\n",
       "  <thead>\n",
       "    <tr style=\"text-align: right;\">\n",
       "      <th></th>\n",
       "      <th>english</th>\n",
       "      <th>chinese</th>\n",
       "    </tr>\n",
       "  </thead>\n",
       "  <tbody>\n",
       "    <tr>\n",
       "      <th>0</th>\n",
       "      <td>Slowly and not without struggle, America began...</td>\n",
       "      <td>美国开始倾听。</td>\n",
       "    </tr>\n",
       "    <tr>\n",
       "      <th>1</th>\n",
       "      <td>Dithering is a technique that blends your colo...</td>\n",
       "      <td>抖动是一种把颜色混为一谈的技巧 使颜色看起来更平滑 或只是创造有趣的纹理</td>\n",
       "    </tr>\n",
       "    <tr>\n",
       "      <th>2</th>\n",
       "      <td>This paper discusses the petrologic characteri...</td>\n",
       "      <td>本文件讨论湖川第三级煤炭盆地地质结构背景下含煤层的含煤层的油气特征。</td>\n",
       "    </tr>\n",
       "    <tr>\n",
       "      <th>3</th>\n",
       "      <td>The second encounter relates to my grandfather...</td>\n",
       "      <td>第二次碰面涉及我祖父的宝箱。</td>\n",
       "    </tr>\n",
       "    <tr>\n",
       "      <th>4</th>\n",
       "      <td>One way to address these challenges would be t...</td>\n",
       "      <td>应对这些挑战的一个办法是建立一个以南非麻瓜经验为模式的真相与和解委员会。</td>\n",
       "    </tr>\n",
       "    <tr>\n",
       "      <th>...</th>\n",
       "      <td>...</td>\n",
       "      <td>...</td>\n",
       "    </tr>\n",
       "    <tr>\n",
       "      <th>49995</th>\n",
       "      <td>You were too obtuse to take the hint.</td>\n",
       "      <td>你太迟钝了 不敢接受暗示</td>\n",
       "    </tr>\n",
       "    <tr>\n",
       "      <th>49996</th>\n",
       "      <td>Therefore, in the event the mortgagee of ship ...</td>\n",
       "      <td>因此,如果船舶抵押权人放弃债务人提供的保修权,影响到其他保修人的利益,则放弃应无效或部分无效。</td>\n",
       "    </tr>\n",
       "    <tr>\n",
       "      <th>49997</th>\n",
       "      <td>Fourth, puncture administrative bloat.</td>\n",
       "      <td>第四,穿刺行政浮肿。</td>\n",
       "    </tr>\n",
       "    <tr>\n",
       "      <th>49998</th>\n",
       "      <td>Massimo Oddo says he won't be thinking about h...</td>\n",
       "      <td>马西莫·奥多说他不会考虑他的俱乐部未来 直到世界杯决赛结束</td>\n",
       "    </tr>\n",
       "    <tr>\n",
       "      <th>49999</th>\n",
       "      <td>The observing mortals' statue The uncompleted ...</td>\n",
       "      <td>旁观者雕像 未完成的佛像 超越了表达的一步 站在街上 似乎在观察人</td>\n",
       "    </tr>\n",
       "  </tbody>\n",
       "</table>\n",
       "<p>50000 rows × 2 columns</p>\n",
       "</div>"
      ],
      "text/plain": [
       "                                                 english  \\\n",
       "0      Slowly and not without struggle, America began...   \n",
       "1      Dithering is a technique that blends your colo...   \n",
       "2      This paper discusses the petrologic characteri...   \n",
       "3      The second encounter relates to my grandfather...   \n",
       "4      One way to address these challenges would be t...   \n",
       "...                                                  ...   \n",
       "49995              You were too obtuse to take the hint.   \n",
       "49996  Therefore, in the event the mortgagee of ship ...   \n",
       "49997             Fourth, puncture administrative bloat.   \n",
       "49998  Massimo Oddo says he won't be thinking about h...   \n",
       "49999  The observing mortals' statue The uncompleted ...   \n",
       "\n",
       "                                               chinese  \n",
       "0                                              美国开始倾听。  \n",
       "1                 抖动是一种把颜色混为一谈的技巧 使颜色看起来更平滑 或只是创造有趣的纹理  \n",
       "2                   本文件讨论湖川第三级煤炭盆地地质结构背景下含煤层的含煤层的油气特征。  \n",
       "3                                       第二次碰面涉及我祖父的宝箱。  \n",
       "4                 应对这些挑战的一个办法是建立一个以南非麻瓜经验为模式的真相与和解委员会。  \n",
       "...                                                ...  \n",
       "49995                                     你太迟钝了 不敢接受暗示  \n",
       "49996  因此,如果船舶抵押权人放弃债务人提供的保修权,影响到其他保修人的利益,则放弃应无效或部分无效。  \n",
       "49997                                       第四,穿刺行政浮肿。  \n",
       "49998                    马西莫·奥多说他不会考虑他的俱乐部未来 直到世界杯决赛结束  \n",
       "49999                旁观者雕像 未完成的佛像 超越了表达的一步 站在街上 似乎在观察人  \n",
       "\n",
       "[50000 rows x 2 columns]"
      ]
     },
     "metadata": {},
     "output_type": "display_data"
    },
    {
     "data": {
      "text/html": [
       "<div>\n",
       "<style scoped>\n",
       "    .dataframe tbody tr th:only-of-type {\n",
       "        vertical-align: middle;\n",
       "    }\n",
       "\n",
       "    .dataframe tbody tr th {\n",
       "        vertical-align: top;\n",
       "    }\n",
       "\n",
       "    .dataframe thead th {\n",
       "        text-align: right;\n",
       "    }\n",
       "</style>\n",
       "<table border=\"1\" class=\"dataframe\">\n",
       "  <thead>\n",
       "    <tr style=\"text-align: right;\">\n",
       "      <th></th>\n",
       "      <th>chinese</th>\n",
       "      <th>english</th>\n",
       "    </tr>\n",
       "  </thead>\n",
       "  <tbody>\n",
       "    <tr>\n",
       "      <th>0</th>\n",
       "      <td>美国缓慢地开始倾听，但并非没有艰难曲折。</td>\n",
       "      <td>The United States has slowly begun to listen, ...</td>\n",
       "    </tr>\n",
       "    <tr>\n",
       "      <th>1</th>\n",
       "      <td>抖动是关于颜色混合的技术，使你的作品看起来更圆滑，或者只是创作有趣的材质。</td>\n",
       "      <td>It's about color blending, making your work lo...</td>\n",
       "    </tr>\n",
       "    <tr>\n",
       "      <th>2</th>\n",
       "      <td>本文以珲春早第三纪含煤盆地的地质构违背景为依据，分析了煤系地层的岩石学特征。</td>\n",
       "      <td>This paper analyses the rocky characteristics ...</td>\n",
       "    </tr>\n",
       "    <tr>\n",
       "      <th>3</th>\n",
       "      <td>第二次事件跟我爷爷的宝贝匣子有关。</td>\n",
       "      <td>The second incident was related to my grandfat...</td>\n",
       "    </tr>\n",
       "    <tr>\n",
       "      <th>4</th>\n",
       "      <td>解决这些挑战的途径包括依照麻瓜在南非的经验设立真相与和解委员会。</td>\n",
       "      <td>These challenges can be addressed through the ...</td>\n",
       "    </tr>\n",
       "    <tr>\n",
       "      <th>...</th>\n",
       "      <td>...</td>\n",
       "      <td>...</td>\n",
       "    </tr>\n",
       "    <tr>\n",
       "      <th>49995</th>\n",
       "      <td>你太迟钝了， 没有理解这种暗示。</td>\n",
       "      <td>You're too slow, you don't understand that hint.</td>\n",
       "    </tr>\n",
       "    <tr>\n",
       "      <th>49996</th>\n",
       "      <td>因此，在这种情况下船舶抵押权人放弃了债务人提供的担保就会影响其他担保人的利益，导致抵押权人的...</td>\n",
       "      <td>Thus, in such a case, the abandonment of the s...</td>\n",
       "    </tr>\n",
       "    <tr>\n",
       "      <th>49997</th>\n",
       "      <td>第四，削弱行政膨胀。</td>\n",
       "      <td>Fourthly, it weakens the expansion of the admi...</td>\n",
       "    </tr>\n",
       "    <tr>\n",
       "      <th>49998</th>\n",
       "      <td>马西莫。奥多声明他不会在世界杯决赛圈比赛结束之前考虑未来的俱乐部。</td>\n",
       "      <td>Massimo. Odo says he won't think about future ...</td>\n",
       "    </tr>\n",
       "    <tr>\n",
       "      <th>49999</th>\n",
       "      <td>《冷眼观俗尘》 尚未完工的佛祖雕像，超凡脱俗的神情，似乎在禅悟街巷里匆忙行人的百态人生。</td>\n",
       "      <td>The unfinished statue of the Buddha, the prepo...</td>\n",
       "    </tr>\n",
       "  </tbody>\n",
       "</table>\n",
       "<p>50000 rows × 2 columns</p>\n",
       "</div>"
      ],
      "text/plain": [
       "                                                 chinese  \\\n",
       "0                                   美国缓慢地开始倾听，但并非没有艰难曲折。   \n",
       "1                  抖动是关于颜色混合的技术，使你的作品看起来更圆滑，或者只是创作有趣的材质。   \n",
       "2                 本文以珲春早第三纪含煤盆地的地质构违背景为依据，分析了煤系地层的岩石学特征。   \n",
       "3                                      第二次事件跟我爷爷的宝贝匣子有关。   \n",
       "4                       解决这些挑战的途径包括依照麻瓜在南非的经验设立真相与和解委员会。   \n",
       "...                                                  ...   \n",
       "49995                                   你太迟钝了， 没有理解这种暗示。   \n",
       "49996  因此，在这种情况下船舶抵押权人放弃了债务人提供的担保就会影响其他担保人的利益，导致抵押权人的...   \n",
       "49997                                         第四，削弱行政膨胀。   \n",
       "49998                  马西莫。奥多声明他不会在世界杯决赛圈比赛结束之前考虑未来的俱乐部。   \n",
       "49999       《冷眼观俗尘》 尚未完工的佛祖雕像，超凡脱俗的神情，似乎在禅悟街巷里匆忙行人的百态人生。   \n",
       "\n",
       "                                                 english  \n",
       "0      The United States has slowly begun to listen, ...  \n",
       "1      It's about color blending, making your work lo...  \n",
       "2      This paper analyses the rocky characteristics ...  \n",
       "3      The second incident was related to my grandfat...  \n",
       "4      These challenges can be addressed through the ...  \n",
       "...                                                  ...  \n",
       "49995   You're too slow, you don't understand that hint.  \n",
       "49996  Thus, in such a case, the abandonment of the s...  \n",
       "49997  Fourthly, it weakens the expansion of the admi...  \n",
       "49998  Massimo. Odo says he won't think about future ...  \n",
       "49999  The unfinished statue of the Buddha, the prepo...  \n",
       "\n",
       "[50000 rows x 2 columns]"
      ]
     },
     "metadata": {},
     "output_type": "display_data"
    }
   ],
   "source": [
    "translation_raw_data = pd.read_json(data_dir)\n",
    "translation_raw_data = translation_raw_data\n",
    "translation_aug_data = pd.read_json(augmented_data_dir)\n",
    "translation_dis_data = pd.read_json(distillation_data_dir)\n",
    "\n",
    "display(translation_raw_data)\n",
    "display(translation_aug_data)\n",
    "display(translation_dis_data)"
   ]
  },
  {
   "cell_type": "markdown",
   "id": "5d87a32c-a292-4fe5-b8c5-9da3f429a23f",
   "metadata": {},
   "source": [
    "## Tokenizer"
   ]
  },
  {
   "cell_type": "code",
   "execution_count": 32,
   "id": "9f78e839-f926-4610-b4f5-4943ebbbc2e5",
   "metadata": {},
   "outputs": [],
   "source": [
    "from transformers import BertTokenizer\n",
    "tokenizer_en = BertTokenizer.from_pretrained(\"bert-base-cased\")\n",
    "tokenizer_cn = BertTokenizer.from_pretrained(\"bert-base-chinese\")"
   ]
  },
  {
   "cell_type": "code",
   "execution_count": 33,
   "id": "c12bd1f4-8fd0-4014-be51-8935cff740d3",
   "metadata": {},
   "outputs": [
    {
     "name": "stdout",
     "output_type": "stream",
     "text": [
      "max tokenize length: 128\n"
     ]
    }
   ],
   "source": [
    "def tokenize_and_truncate(text, tokenizer, max_length=512):\n",
    "    return tokenizer.encode(text, add_special_tokens=True, padding=False, truncation=True, max_length=max_length)\n",
    "\n",
    "# Apply tokenization with truncation\n",
    "english_seqs = translation_raw_data[\"english\"].apply(lambda x: tokenize_and_truncate(x, tokenizer_en))\n",
    "chinese_seqs = translation_raw_data[\"chinese\"].apply(lambda x: tokenize_and_truncate(x, tokenizer_cn))\n",
    "english_aug_seqs = translation_aug_data[\"english\"].apply(lambda x: tokenize_and_truncate(x, tokenizer_en))\n",
    "chinese_aug_seqs = translation_aug_data[\"chinese\"].apply(lambda x: tokenize_and_truncate(x, tokenizer_cn))\n",
    "english_dis_seqs = translation_dis_data[\"english\"].apply(lambda x: tokenize_and_truncate(x, tokenizer_en))\n",
    "\n",
    "MAX_TOKENIZE_LENGTH = max(english_seqs.str.len().max(),chinese_seqs.str.len().max()) # longest string\n",
    "MAX_TOKENIZE_LENGTH = pow(2, math.ceil(math.log(MAX_TOKENIZE_LENGTH)/math.log(2)))   # closest upper to the power of 2\n",
    "\n",
    "print(\"max tokenize length:\", MAX_TOKENIZE_LENGTH)"
   ]
  },
  {
   "cell_type": "markdown",
   "id": "a7b85b6c-152a-4883-9265-41efb22f9653",
   "metadata": {},
   "source": [
    "## Add paddings"
   ]
  },
  {
   "cell_type": "code",
   "execution_count": 34,
   "id": "0c3169cc-328f-4f41-8905-951a6282edef",
   "metadata": {},
   "outputs": [],
   "source": [
    "PAD_IDX = 0\n",
    "BOS_IDX = chinese_seqs.iloc[0][0]\n",
    "EOS_IDX = chinese_seqs.iloc[0][-1]\n",
    "\n",
    "def add_padding(token_list, max_length):\n",
    "    ### TO-DO: Add padding to make all the sentence the same length\n",
    "    # If the sequence is shorter than the max length, pad with PAD_IDX\n",
    "    if len(token_list) < max_length:\n",
    "        token_list += [PAD_IDX] * (max_length - len(token_list))\n",
    "    # If the sequence is longer than the max length, truncate the sequence\n",
    "    else:\n",
    "        token_list = token_list[:max_length]\n",
    "    return token_list\n",
    "\n",
    "chinese_seqs = chinese_seqs.apply(lambda x: add_padding(x,MAX_TOKENIZE_LENGTH))\n",
    "english_seqs = english_seqs.apply(lambda x: add_padding(x,MAX_TOKENIZE_LENGTH))\n",
    "chinese_aug_seqs = chinese_aug_seqs.apply(lambda x: add_padding(x,MAX_TOKENIZE_LENGTH))\n",
    "english_aug_seqs = english_aug_seqs.apply(lambda x: add_padding(x,MAX_TOKENIZE_LENGTH))\n",
    "english_dis_seqs = english_dis_seqs.apply(lambda x: add_padding(x,MAX_TOKENIZE_LENGTH))"
   ]
  },
  {
   "cell_type": "code",
   "execution_count": 35,
   "id": "e7ea75e9-8d80-4735-a7c7-7bc476eeb4f6",
   "metadata": {},
   "outputs": [
    {
     "name": "stdout",
     "output_type": "stream",
     "text": [
      "=====chinese tokenized data=====\n",
      "[101, 5401, 1744, 5353, 2714, 1765, 2458, 1993, 967, 1420, 8024, 852, 2400, 7478, 3766, 3300, 5680, 7410, 3289, 2835, 511, 102, 0, 0, 0, 0, 0, 0, 0, 0, 0, 0, 0, 0, 0, 0, 0, 0, 0, 0, 0, 0, 0, 0, 0, 0, 0, 0, 0, 0, 0, 0, 0, 0, 0, 0, 0, 0, 0, 0, 0, 0, 0, 0, 0, 0, 0, 0, 0, 0, 0, 0, 0, 0, 0, 0, 0, 0, 0, 0, 0, 0, 0, 0, 0, 0, 0, 0, 0, 0, 0, 0, 0, 0, 0, 0, 0, 0, 0, 0, 0, 0, 0, 0, 0, 0, 0, 0, 0, 0, 0, 0, 0, 0, 0, 0, 0, 0, 0, 0, 0, 0, 0, 0, 0, 0, 0, 0]\n",
      "=====english tokenized data=====\n",
      "[101, 13060, 1105, 1136, 1443, 5637, 117, 1738, 1310, 1106, 5113, 119, 102, 0, 0, 0, 0, 0, 0, 0, 0, 0, 0, 0, 0, 0, 0, 0, 0, 0, 0, 0, 0, 0, 0, 0, 0, 0, 0, 0, 0, 0, 0, 0, 0, 0, 0, 0, 0, 0, 0, 0, 0, 0, 0, 0, 0, 0, 0, 0, 0, 0, 0, 0, 0, 0, 0, 0, 0, 0, 0, 0, 0, 0, 0, 0, 0, 0, 0, 0, 0, 0, 0, 0, 0, 0, 0, 0, 0, 0, 0, 0, 0, 0, 0, 0, 0, 0, 0, 0, 0, 0, 0, 0, 0, 0, 0, 0, 0, 0, 0, 0, 0, 0, 0, 0, 0, 0, 0, 0, 0, 0, 0, 0, 0, 0, 0, 0]\n"
     ]
    }
   ],
   "source": [
    "# check the padding result\n",
    "print(\"=====chinese tokenized data=====\")\n",
    "print(chinese_seqs.iloc[0])\n",
    "\n",
    "print(\"=====english tokenized data=====\")\n",
    "print(english_seqs.iloc[0])"
   ]
  },
  {
   "cell_type": "markdown",
   "id": "de3e757b-45d9-4be7-b852-4fcfef6de1cf",
   "metadata": {},
   "source": [
    "## Datalodader\n",
    "- Split dataset into training dataset(90%) and validation dataset(10%).\n",
    "- Create dataloader to iterate the data."
   ]
  },
  {
   "cell_type": "code",
   "execution_count": 36,
   "id": "2d3beb8a-ff48-46bd-9d1f-388580971d16",
   "metadata": {},
   "outputs": [
    {
     "name": "stdout",
     "output_type": "stream",
     "text": [
      "train_size: 45000\n",
      "test_size: 5000\n",
      "Do data augmentation : True\n",
      "Augmentation : 0.3\n",
      "Do knowledge distillation : False\n"
     ]
    }
   ],
   "source": [
    "data_size = len(translation_raw_data)\n",
    "train_size = int(0.9*data_size)\n",
    "test_size = data_size - train_size\n",
    "print(\"train_size:\",train_size)\n",
    "print(\"test_size:\",test_size)\n",
    "\n",
    "en_training_data = []\n",
    "cn_training_data = []\n",
    "en_aug_training_data = []\n",
    "cn_aug_training_data = []\n",
    "en_dis_training_data = []\n",
    "en_testing_data = []\n",
    "cn_testing_data = []\n",
    "\n",
    "for i in range(data_size):\n",
    "    if (i < train_size):\n",
    "        en_training_data.append(torch.Tensor(english_seqs.iloc[i]))\n",
    "        cn_training_data.append(torch.Tensor(chinese_seqs.iloc[i]))\n",
    "        en_dis_training_data.append(torch.Tensor(english_dis_seqs.iloc[i]))\n",
    "    else:\n",
    "        en_testing_data.append(torch.Tensor(english_seqs.iloc[i]))\n",
    "        cn_testing_data.append(torch.Tensor(chinese_seqs.iloc[i]))\n",
    "\n",
    "# for data augmentation\n",
    "aug_data_size = len(translation_aug_data)\n",
    "for i in range(aug_data_size):\n",
    "    en_aug_training_data.append(torch.Tensor(english_aug_seqs.iloc[i]))\n",
    "    cn_aug_training_data.append(torch.Tensor(chinese_aug_seqs.iloc[i]))\n",
    "\n",
    "aug_percentage = 0.3\n",
    "class TextTranslationDataset(Dataset): \n",
    "    def __init__(self, src, dst, aug_src=None, aug_dst=None, dis_dst=None, augmentation=False): \n",
    "        self.src_list = src\n",
    "        self.dst_list = dst\n",
    "        self.aug_src_list = aug_src\n",
    "        self.aug_dst_list = aug_dst\n",
    "        self.dis_dst_list = dis_dst\n",
    "        self.augmentation = augmentation\n",
    "        \n",
    "    def __len__(self): \n",
    "        return len(self.src_list)\n",
    "\n",
    "    def __getitem__(self, idx): \n",
    "        if (self.augmentation == True):\n",
    "            random_integer = random.randint(1, 10)\n",
    "\n",
    "            if(random_integer < 4):\n",
    "                return self.aug_src_list[idx], self.aug_dst_list[idx], self.dis_dst_list[idx]\n",
    "                \n",
    "            else:\n",
    "                return self.src_list[idx], self.dst_list[idx], self.dis_dst_list[idx]\n",
    "            \n",
    "        else:\n",
    "            return self.src_list[idx], self.dst_list[idx], self.dis_dst_list[idx]\n",
    "        \n",
    "        \n",
    "cn_to_en_train_set = TextTranslationDataset(cn_training_data, en_training_data, aug_src=cn_aug_training_data, aug_dst=en_aug_training_data, \n",
    "                                            dis_dst=en_dis_training_data, augmentation=config[\"augmentation\"])\n",
    "cn_to_en_test_set = TextTranslationDataset(cn_testing_data, en_testing_data, dis_dst=en_dis_training_data)\n",
    "\n",
    "cn_to_en_train_loader = DataLoader(cn_to_en_train_set, batch_size=BATCH_SIZE, shuffle=True)\n",
    "cn_to_en_test_loader = DataLoader(cn_to_en_test_set, batch_size=BATCH_SIZE, shuffle=False)\n",
    "\n",
    "print(\"Do data augmentation :\", config[\"augmentation\"])\n",
    "print(\"Augmentation :\", aug_percentage)\n",
    "print(\"Do knowledge distillation :\", \"False\" if config[\"distillation_rate\"]==0.0 else \"True\")"
   ]
  },
  {
   "cell_type": "markdown",
   "id": "a03160db-a2ab-49a2-a538-344a8f27c89c",
   "metadata": {},
   "source": [
    "# Model\n",
    "- TO-DO: Finish the model by yourself\n",
    "- Base transformer layers in [Attention Is All You Need](https://arxiv.org/abs/1706.03762)\n",
    "    - TransformerEncoderLayer:\n",
    "    - TransformerDecoderLayer:\n",
    "- Positional encoding and input embedding\n",
    "- Note that you may need masks when implementing attention mechanism\n",
    "    - Padding mask: prevent input from attending to padding tokens\n",
    "    - Causal mask: prevent decoder input from attending to future input"
   ]
  },
  {
   "cell_type": "code",
   "execution_count": 37,
   "id": "9f4e36b6-c529-4b65-94fa-eed6a8a6cb52",
   "metadata": {},
   "outputs": [],
   "source": [
    "class MultiHeadAttention(nn.Module):\n",
    "    def __init__(self, d_model, head_num):\n",
    "        super().__init__()\n",
    "        ## TO-DO\n",
    "        self.head_num = head_num\n",
    "        self.d_model = d_model\n",
    "        assert d_model % head_num == 0, \"d_model must be divisible by head_num\"\n",
    "\n",
    "        self.head_dim = d_model // head_num\n",
    "\n",
    "        self.q_linear = nn.Linear(d_model, d_model)\n",
    "        self.k_linear = nn.Linear(d_model, d_model)\n",
    "        self.v_linear = nn.Linear(d_model, d_model)\n",
    "\n",
    "        self.out_linear = nn.Linear(d_model, d_model)\n",
    "\n",
    "        self.scale = self.head_dim ** -0.5  # Scaling factor\n",
    "\n",
    "    def forward(self, Q, K, V, src_padding_mask=None, future_mask=None):\n",
    "        ## TO-DO\n",
    "        batch_size = Q.size(1)\n",
    "        \n",
    "        Q = self.q_linear(Q).view(-1, batch_size, self.head_num, self.head_dim).transpose(0, 2)\n",
    "        K = self.k_linear(K).view(-1, batch_size, self.head_num, self.head_dim).transpose(0, 2)\n",
    "        V = self.v_linear(V).view(-1, batch_size, self.head_num, self.head_dim).transpose(0, 2)\n",
    "        \n",
    "        attn_weights = torch.matmul(Q, K.transpose(-2, -1)) * self.scale\n",
    "        \n",
    "        if src_padding_mask is not None:\n",
    "            attn_weights = attn_weights.masked_fill(src_padding_mask.unsqueeze(0).unsqueeze(2), float('-inf'))\n",
    "        \n",
    "        if future_mask is not None:\n",
    "            attn_weights = attn_weights.masked_fill(future_mask.unsqueeze(0).unsqueeze(1), float('-inf'))\n",
    "        \n",
    "        attn_weights = torch.softmax(attn_weights, dim=-1)\n",
    "        attn_output = torch.matmul(attn_weights, V)\n",
    "        \n",
    "        output = attn_output.transpose(1, 2).contiguous().view(-1, batch_size, self.d_model)  # (batch_size, seq_len, d_model)\n",
    "        # output = self.out_linear(output)\n",
    "        \n",
    "        return output"
   ]
  },
  {
   "cell_type": "code",
   "execution_count": 38,
   "id": "723da0dc",
   "metadata": {},
   "outputs": [],
   "source": [
    "class SwiGLU(nn.Module):\n",
    "    def __init__(self, dimension):\n",
    "        super().__init__()\n",
    "        self.linear_1 = nn.Linear(dimension,dimension)\n",
    "        self.linear_2 = nn.Linear(dimension,dimension)\n",
    "\n",
    "    def forward(self, x):\n",
    "        output = self.linear_1(x)\n",
    "        swish = output * torch.sigmoid(output)\n",
    "        swiglu = swish * self.linear_2(x)\n",
    "\n",
    "        return swiglu"
   ]
  },
  {
   "cell_type": "code",
   "execution_count": 39,
   "id": "36ecfe90-37fa-4735-8265-2dcada1d819e",
   "metadata": {},
   "outputs": [],
   "source": [
    "class TransformerEncoderLayer(nn.Module):\n",
    "    def __init__(self, d_model, dim_feedforward, nhead, dropout):\n",
    "        super().__init__()\n",
    "        ## TO-DO\n",
    "        self.self_attn = MultiHeadAttention(d_model, nhead)\n",
    "        \n",
    "        # Feed-forward network\n",
    "        self.feedforward = nn.Sequential(\n",
    "            nn.Linear(d_model, dim_feedforward),\n",
    "            nn.GELU(),\n",
    "            nn.Dropout(dropout),\n",
    "            nn.Linear(dim_feedforward, d_model)\n",
    "        )\n",
    "        \n",
    "        # Layer normalization and dropout\n",
    "        self.norm1 = nn.modules.normalization.RMSNorm(d_model)\n",
    "        self.norm2 = nn.modules.normalization.RMSNorm(d_model)\n",
    "        self.dropout = nn.Dropout(dropout)\n",
    "\n",
    "    def forward(self, x, src_padding_mask):\n",
    "        ## TO-DO\n",
    "        # Self-attention block\n",
    "        attn_output = self.self_attn(x, x, x, src_padding_mask)\n",
    "        x = x + self.dropout(attn_output)  # Residual connection\n",
    "        x = self.norm1(x)  # Layer normalization after attention\n",
    "        \n",
    "        # Feedforward block\n",
    "        feedforward_output = self.feedforward(x)\n",
    "        x = x + self.dropout(feedforward_output)  # Residual connection\n",
    "        x = self.norm2(x)  # Layer normalization after feed-forward\n",
    "        \n",
    "        return x\n",
    "        "
   ]
  },
  {
   "cell_type": "code",
   "execution_count": 40,
   "id": "72e91586-43f3-4bb6-bdf2-989fca5e17d3",
   "metadata": {},
   "outputs": [],
   "source": [
    "class TransformerDecoderLayer(nn.Module):\n",
    "    def __init__(self, d_model, dim_feedforward, nhead, dropout):\n",
    "        super().__init__()\n",
    "        ## TO-DO\n",
    "        self.self_attn = MultiHeadAttention(d_model, nhead)  # Self-attention for target sequence\n",
    "        self.enc_dec_attn = MultiHeadAttention(d_model, nhead)  # Encoder-decoder cross-attention\n",
    "\n",
    "        # Feed-forward network\n",
    "        self.feedforward = nn.Sequential(\n",
    "            nn.Linear(d_model, dim_feedforward),\n",
    "            nn.GELU(),\n",
    "            nn.Dropout(dropout),\n",
    "            nn.Linear(dim_feedforward, d_model)\n",
    "        )\n",
    "\n",
    "        # Layer normalization and dropout\n",
    "        self.norm1 = nn.modules.normalization.RMSNorm(d_model)\n",
    "        self.norm2 = nn.modules.normalization.RMSNorm(d_model)\n",
    "        self.norm3 = nn.modules.normalization.RMSNorm(d_model)\n",
    "        self.dropout = nn.Dropout(dropout)\n",
    "\n",
    "    def forward(self, x, enc_output, src_padding_mask=None, tgt_padding_mask=None, tgt_future_mask=None):\n",
    "        ## TO-DO\n",
    "        # Step 1: Self-attention (on target sequence)\n",
    "        self_attn_output = self.self_attn(x, x, x, tgt_padding_mask, tgt_future_mask)\n",
    "        x = x + self.dropout(self_attn_output)  # Residual connection\n",
    "        x = self.norm1(x)  # Layer normalization\n",
    "\n",
    "        # Step 2: Encoder-decoder cross-attention (using encoder output)\n",
    "        enc_dec_attn_output = self.enc_dec_attn(x, enc_output, enc_output, src_padding_mask)\n",
    "        x = x + self.dropout(enc_dec_attn_output)  # Residual connection\n",
    "        x = self.norm2(x)  # Layer normalization\n",
    "\n",
    "        # Step 3: Feed-forward network\n",
    "        feedforward_output = self.feedforward(x)\n",
    "        x = x + self.dropout(feedforward_output)  # Residual connection\n",
    "        x = self.norm3(x)  # Layer normalization\n",
    "        \n",
    "        return x\n",
    "        "
   ]
  },
  {
   "cell_type": "code",
   "execution_count": 41,
   "id": "0292eb1d-c796-4f6d-8db9-61082b6ec4b5",
   "metadata": {},
   "outputs": [],
   "source": [
    "class Transformer(nn.Module): \n",
    "    def __init__(self, d_model, num_heads, num_encoder_layers, num_decoder_layers, d_ff, dropout):\n",
    "        super().__init__()\n",
    "        ## TO-DO\n",
    "        self.encoder_layers = nn.ModuleList([\n",
    "            TransformerEncoderLayer(d_model, d_ff, num_heads, dropout) for _ in range(num_encoder_layers)\n",
    "        ])\n",
    "        self.decoder_layers = nn.ModuleList([\n",
    "            TransformerDecoderLayer(d_model, d_ff, num_heads, dropout) for _ in range(num_decoder_layers)\n",
    "        ])\n",
    "        \n",
    "        \n",
    "    def forward(self, src_embeded, tgt_embeded, src_padding_mask, tgt_padding_mask, tgt_future_mask):\n",
    "        ## TO-DO\n",
    "        # Encoding: Pass the source sequence through all encoder layers\n",
    "        enc_output = self.encode(src_embeded, src_padding_mask)\n",
    "        \n",
    "        # Decoding: Pass the target sequence and encoder output through decoder layers\n",
    "        dec_output = self.decode(tgt_embeded, enc_output, src_padding_mask, tgt_padding_mask, tgt_future_mask)\n",
    "        \n",
    "        return dec_output\n",
    "        \n",
    "    def encode(self, src_embeded, src_padding_mask=None): \n",
    "        ## TO-DO\n",
    "        # Pass the source embeddings through each encoder layer sequentially\n",
    "        x = src_embeded\n",
    "        for layer in self.encoder_layers:\n",
    "            x = layer(x, src_padding_mask)\n",
    "        return x\n",
    "        \n",
    "    def decode(self, tgt_embeded, enc_output, src_padding_mask=None, tgt_padding_mask=None, tgt_future_mask=None):\n",
    "        ## TO-DO\n",
    "        # Pass the target embeddings through each decoder layer sequentially\n",
    "        x = tgt_embeded\n",
    "        for layer in self.decoder_layers:\n",
    "            x = layer(x, enc_output, src_padding_mask, tgt_padding_mask, tgt_future_mask)\n",
    "        return x"
   ]
  },
  {
   "cell_type": "code",
   "execution_count": 42,
   "id": "6215f72e-6dfb-4a03-829c-56174f1e02bc",
   "metadata": {},
   "outputs": [],
   "source": [
    "class PositionalEncoding(nn.Module):\n",
    "    def __init__(self, emb_size, dropout, maxlen):\n",
    "        super().__init__()\n",
    "        ## TO-DO\n",
    "        self.dropout = nn.Dropout(p=dropout)\n",
    "\n",
    "        position = torch.arange(maxlen).unsqueeze(1)\n",
    "        div_term = torch.exp(torch.arange(0, emb_size, 2) * (-math.log(10000.0) / emb_size))\n",
    "        pe = torch.zeros(maxlen, 1, emb_size)\n",
    "        pe[:, 0, 0::2] = torch.sin(position * div_term)\n",
    "        pe[:, 0, 1::2] = torch.cos(position * div_term)\n",
    "        self.register_buffer('pe', pe)\n",
    "\n",
    "    def forward(self, token_embedding):\n",
    "        ## TO-DO\n",
    "        x = token_embedding + self.pe[:token_embedding.size(0)]\n",
    "        return self.dropout(x)\n",
    "\n",
    "\n",
    "class TokenEmbedding(nn.Module):\n",
    "    def __init__(self, vocab_size, emb_size):\n",
    "        super().__init__()\n",
    "        ## TO-DO\n",
    "        self.embedding = nn.Embedding(vocab_size, emb_size)\n",
    "        self.emb_size = emb_size\n",
    "        \n",
    "    def forward(self, tokens):\n",
    "        return self.embedding(tokens.long()) * math.sqrt(self.emb_size)"
   ]
  },
  {
   "cell_type": "code",
   "execution_count": 43,
   "id": "0862f43e-2d3b-4b4e-8e10-a4682dafd1ea",
   "metadata": {},
   "outputs": [],
   "source": [
    "def create_mask(src, tgt):\n",
    "    ## TO-DO\n",
    "    tgt_seq_len = tgt.size(0)\n",
    "\n",
    "    src_padding_mask = (src == 0).transpose(0, 1)\n",
    "    tgt_padding_mask = (tgt == 0).transpose(0, 1)\n",
    "    \n",
    "    tgt_future_mask = torch.triu(torch.ones((tgt_seq_len, tgt_seq_len), device=src.device, dtype=torch.bool), diagonal=1)\n",
    "    \n",
    "    return tgt_future_mask, src_padding_mask, tgt_padding_mask"
   ]
  },
  {
   "cell_type": "code",
   "execution_count": 44,
   "id": "fefeaad8-0546-48a6-8e6a-2b9881bc0899",
   "metadata": {},
   "outputs": [],
   "source": [
    "# Seq2Seq Network\n",
    "class Seq2SeqNetwork(nn.Module):\n",
    "    def __init__(self, \n",
    "                 num_encoder_layers,\n",
    "                 num_decoder_layers,\n",
    "                 emb_size,\n",
    "                 nhead,\n",
    "                 src_vocab_size,\n",
    "                 tgt_vocab_size,\n",
    "                 dim_feedforward,\n",
    "                 dropout=0.3,\n",
    "                 maxlen=128):\n",
    "        super().__init__()\n",
    "        self.transformer = Transformer(\n",
    "            d_model=emb_size,\n",
    "            num_heads=nhead,\n",
    "            num_encoder_layers=num_encoder_layers,\n",
    "            num_decoder_layers=num_decoder_layers,\n",
    "            d_ff=dim_feedforward,\n",
    "            dropout=dropout\n",
    "        )\n",
    "        self.generator = nn.Linear(emb_size, tgt_vocab_size)\n",
    "        self.src_tok_emb = TokenEmbedding(src_vocab_size, emb_size)\n",
    "        self.tgt_tok_emb = TokenEmbedding(tgt_vocab_size, emb_size)\n",
    "        self.positional_encoding = PositionalEncoding(emb_size, dropout=dropout, maxlen=maxlen)\n",
    "\n",
    "    def forward(self,\n",
    "                src,\n",
    "                trg, \n",
    "                tgt_future_mask=None,\n",
    "                src_padding_mask=None,\n",
    "                tgt_padding_mask=None):\n",
    "        src_emb = self.positional_encoding(self.src_tok_emb(src))\n",
    "        tgt_emb = self.positional_encoding(self.tgt_tok_emb(trg))\n",
    "        outs = self.transformer(src_emb, tgt_emb, src_padding_mask=src_padding_mask, tgt_padding_mask=tgt_padding_mask, tgt_future_mask=tgt_future_mask)\n",
    "        return self.generator(outs)\n",
    "\n",
    "\n",
    "    def encode(self, src, src_padding_mask=None):\n",
    "        return self.transformer.encode(self.positional_encoding(self.src_tok_emb(src)), src_padding_mask=src_padding_mask)\n",
    "\n",
    "    def decode(self, tgt, memory, src_padding_mask=None, tgt_padding_mask=None, tgt_future_mask=None):\n",
    "        return self.transformer.decode(self.positional_encoding(self.tgt_tok_emb(tgt)), memory, src_padding_mask=src_padding_mask, tgt_padding_mask=tgt_padding_mask, tgt_future_mask=tgt_future_mask)"
   ]
  },
  {
   "cell_type": "markdown",
   "id": "da36f176-95be-4ea2-b96d-694123fce4d7",
   "metadata": {},
   "source": [
    "## Note: The parameter size of model should be less than 100M (100,000k) !!! "
   ]
  },
  {
   "cell_type": "code",
   "execution_count": 45,
   "id": "b8473468-4332-461e-bd1b-e404730bf7d8",
   "metadata": {},
   "outputs": [
    {
     "name": "stdout",
     "output_type": "stream",
     "text": [
      "The parameter size of transformer is 22.126916 M\n"
     ]
    }
   ],
   "source": [
    "EMB_SIZE            = config[\"embedded_dim\"]\n",
    "NHEAD               = config[\"head_num\"]\n",
    "FFN_HID_DIM         = config[\"ff_hidden_dim\"]\n",
    "NUM_ENCODER_LAYERS  = config[\"encoder_num\"]\n",
    "NUM_DECODER_LAYERS  = config[\"decoder_num\"]\n",
    "DROPOUT_RATE        = config[\"dropout_rate\"]\n",
    "SRC_VOCAB_SIZE      = tokenizer_cn.vocab_size\n",
    "TGT_VOCAB_SIZE      = tokenizer_en.vocab_size\n",
    "DEVICE              = config[\"device\"]\n",
    "\n",
    "transformer = Seq2SeqNetwork(NUM_ENCODER_LAYERS, NUM_DECODER_LAYERS, EMB_SIZE,\n",
    "                                 NHEAD, SRC_VOCAB_SIZE, TGT_VOCAB_SIZE, FFN_HID_DIM, DROPOUT_RATE)\n",
    "\n",
    "for p in transformer.parameters():\n",
    "    if p.dim() > 1:\n",
    "        nn.init.xavier_uniform_(p)\n",
    "\n",
    "transformer = transformer.to(DEVICE)\n",
    "param_transformer = sum(p.numel() for p in transformer.parameters())\n",
    "print (f\"The parameter size of transformer is {param_transformer/1000000} M\")\n",
    "#   The parameter size of model should be less than 100M (100,000k) !!! \n",
    "#   The parameter size of model should be less than 100M (100,000k) !!! \n",
    "#   The parameter size of model should be less than 100M (100,000k) !!! "
   ]
  },
  {
   "cell_type": "markdown",
   "id": "f8086b4f-57b4-4d8a-812b-03b50319a368",
   "metadata": {},
   "source": [
    "# Training\n",
    "- You can change the training setting by yourself including\n",
    "  - Number of epoch\n",
    "  - Optimizer\n",
    "  - Learning rate\n",
    "  - Learning rate scheduler\n",
    "  - etc..."
   ]
  },
  {
   "cell_type": "code",
   "execution_count": 46,
   "id": "409a5008-c773-484a-89e2-3670cc872f60",
   "metadata": {},
   "outputs": [],
   "source": [
    "NUM_EPOCHS = config[\"epoch_num\"]\n",
    "DISTILLATION = config[\"distillation_rate\"]\n",
    "loss_fn = torch.nn.CrossEntropyLoss(ignore_index=PAD_IDX, label_smoothing=config[\"smoothing_rate\"])\n",
    "\n",
    "base_optimizer = torch.optim.Adam(transformer.parameters(), lr=config[\"learning_rate\"], betas=(0.9, 0.98), eps=1e-9, weight_decay=config[\"regularization\"])\n",
    "optimizer = Lookahead(base_optimizer, k=5, alpha=0.5)\n",
    "\n",
    "scheduler = torch.optim.lr_scheduler.CosineAnnealingWarmRestarts(\n",
    "    optimizer, \n",
    "    T_0=NUM_EPOCHS*train_size//(BATCH_SIZE*3),\n",
    "    T_mult=1,\n",
    "    eta_min=config[\"eta_min\"]\n",
    ")"
   ]
  },
  {
   "cell_type": "markdown",
   "id": "a8960b29-670f-43eb-bd14-9f78366d8080",
   "metadata": {},
   "source": [
    "## Translation quality metrics: BLEU score"
   ]
  },
  {
   "cell_type": "code",
   "execution_count": 47,
   "id": "81785871-1002-45d0-9da0-2b002c12ad05",
   "metadata": {},
   "outputs": [],
   "source": [
    "from torchmetrics.text import BLEUScore\n",
    "\n",
    "def bleu_score_func(predicted, truth, grams=1): \n",
    "    preds = [predicted]\n",
    "    truth = [[truth]]\n",
    "    bleu = BLEUScore(n_gram=grams)\n",
    "    return bleu(preds, truth)\n",
    "\n",
    "\n",
    "def BLEU_batch(predict, truth, output_tokenizer): \n",
    "    batch_size = predict.size(1)\n",
    "    total_score = 0\n",
    "    for i in range(batch_size): \n",
    "        predict_str = output_tokenizer.decode(predict[:, i], skip_special_tokens=True)\n",
    "        truth_str = output_tokenizer.decode(truth[:, i], skip_special_tokens=True)\n",
    "        score_gram1 = bleu_score_func(predict_str.lower(), truth_str.lower(), grams=1)\n",
    "        #score_gram2 = bleu_score_func(predict_str.lower(), truth_str, grams=2)\n",
    "        #score_gram3 = bleu_score_func(predict_str.lower(), truth_str, grams=3)\n",
    "        #score_gram4 = bleu_score_func(predict_str.lower(), truth_str, grams=4)\n",
    "        #total_score = total_score + (score_gram1 + score_gram2 + score_gram3 + score_gram4) / 4.0        \n",
    "        total_score = total_score + score_gram1\n",
    "    total_score = total_score / batch_size\n",
    "    return total_score"
   ]
  },
  {
   "cell_type": "markdown",
   "id": "0b9aa45c-886a-48bd-9f3b-a89a1d3c91aa",
   "metadata": {},
   "source": [
    "## Training and Evaluation Functions"
   ]
  },
  {
   "cell_type": "code",
   "execution_count": 48,
   "id": "6813f99a-62a5-43d5-bc20-96cf9384acfe",
   "metadata": {},
   "outputs": [],
   "source": [
    "def train_epoch(model, optimizer, train_dataloader, scheduler=None, distillation=0.0):\n",
    "    model.train()\n",
    "    losses = 0\n",
    "    \n",
    "    for src, tgt, dis_tgt in tqdm(train_dataloader, desc=\"Training\", leave=False):\n",
    "        src = src.transpose(0, 1)\n",
    "        tgt = tgt.transpose(0, 1)\n",
    "        \n",
    "        src = src.to(DEVICE)\n",
    "        tgt = tgt.to(DEVICE)\n",
    "\n",
    "        # model 1\n",
    "        tgt_input = tgt[:-1, :]\n",
    "        tgt_future_mask, src_padding_mask, tgt_padding_mask = create_mask(src, tgt_input)\n",
    "        logits = model(src, tgt_input, src_padding_mask=src_padding_mask, tgt_padding_mask=tgt_padding_mask, tgt_future_mask=tgt_future_mask)\n",
    "        tgt_out = tgt[1:, :]\n",
    "\n",
    "        optimizer.zero_grad()\n",
    "\n",
    "        loss = loss_fn(logits.reshape(-1, logits.shape[-1]), tgt_out.reshape(-1).long())\n",
    "        loss.backward()\n",
    "\n",
    "        optimizer.step()\n",
    "        \n",
    "        losses += loss.item()\n",
    "        scheduler.step()\n",
    "\n",
    "    return losses / len(list(train_dataloader))\n",
    "\n",
    "\n",
    "def evaluate(model, val_dataloader):\n",
    "    model.eval()\n",
    "    losses = 0\n",
    "    score = 0\n",
    "    \n",
    "    for src, tgt, _ in tqdm(val_dataloader, desc=\"Validating\", leave=False):\n",
    "        src = src.transpose(0, 1)\n",
    "        tgt = tgt.transpose(0, 1)\n",
    "        \n",
    "        src = src.to(DEVICE)\n",
    "        tgt = tgt.to(DEVICE)\n",
    "\n",
    "        tgt_input = tgt[:-1, :]\n",
    "        tgt_future_mask, src_padding_mask, tgt_padding_mask = create_mask(src, tgt_input)\n",
    "\n",
    "        logits = model(src, tgt_input, src_padding_mask=src_padding_mask, tgt_padding_mask=tgt_padding_mask, tgt_future_mask=tgt_future_mask)\n",
    "\n",
    "        tgt_out = tgt[1:, :]\n",
    "        _, tgt_predict = torch.max(logits, dim=-1)\n",
    "        score_batch = BLEU_batch(tgt_predict, tgt_out, tokenizer_en)\n",
    "        \n",
    "        loss = loss_fn(logits.reshape(-1, logits.shape[-1]), tgt_out.reshape(-1).long())\n",
    "        losses += loss.item()\n",
    "        score += score_batch\n",
    "\n",
    "    return (losses / len(list(val_dataloader))), (score / len(list(val_dataloader)))"
   ]
  },
  {
   "cell_type": "markdown",
   "id": "6bf3012a-bd6f-4ca1-9ff5-ea1162920e0e",
   "metadata": {},
   "source": [
    "## Start training\n",
    "- MODEL_SAVE_PATH: path for storing the best model"
   ]
  },
  {
   "cell_type": "code",
   "execution_count": 49,
   "id": "2640ed86-192a-4a85-82da-46347fb765fb",
   "metadata": {},
   "outputs": [],
   "source": [
    "MODEL_SAVE_PATH = \"./model.ckpt\""
   ]
  },
  {
   "cell_type": "code",
   "execution_count": 50,
   "id": "a94b00cb-8ae1-427b-96c4-7b1b9bb840b2",
   "metadata": {},
   "outputs": [
    {
     "name": "stderr",
     "output_type": "stream",
     "text": [
      "                                                             \r"
     ]
    },
    {
     "name": "stdout",
     "output_type": "stream",
     "text": [
      "Epoch: 1, Train loss: 7.3051, Val loss: 6.8696, Val Acc: 0.1301, LR = 0.000300, Epoch time = 33.00s\n",
      "(model saved)\n"
     ]
    },
    {
     "name": "stderr",
     "output_type": "stream",
     "text": [
      "                                                             \r"
     ]
    },
    {
     "name": "stdout",
     "output_type": "stream",
     "text": [
      "Epoch: 2, Train loss: 6.7126, Val loss: 6.5891, Val Acc: 0.1644, LR = 0.000299, Epoch time = 34.27s\n",
      "(model saved)\n"
     ]
    },
    {
     "name": "stderr",
     "output_type": "stream",
     "text": [
      "                                                             \r"
     ]
    },
    {
     "name": "stdout",
     "output_type": "stream",
     "text": [
      "Epoch: 3, Train loss: 6.4858, Val loss: 6.4462, Val Acc: 0.1821, LR = 0.000299, Epoch time = 39.08s\n",
      "(model saved)\n"
     ]
    },
    {
     "name": "stderr",
     "output_type": "stream",
     "text": [
      "                                                             \r"
     ]
    },
    {
     "name": "stdout",
     "output_type": "stream",
     "text": [
      "Epoch: 4, Train loss: 6.3314, Val loss: 6.3414, Val Acc: 0.1905, LR = 0.000298, Epoch time = 36.96s\n",
      "(model saved)\n"
     ]
    },
    {
     "name": "stderr",
     "output_type": "stream",
     "text": [
      "                                                             \r"
     ]
    },
    {
     "name": "stdout",
     "output_type": "stream",
     "text": [
      "Epoch: 5, Train loss: 6.2082, Val loss: 6.2415, Val Acc: 0.2049, LR = 0.000297, Epoch time = 33.34s\n",
      "(model saved)\n"
     ]
    },
    {
     "name": "stderr",
     "output_type": "stream",
     "text": [
      "                                                             \r"
     ]
    },
    {
     "name": "stdout",
     "output_type": "stream",
     "text": [
      "Epoch: 6, Train loss: 6.1046, Val loss: 6.1471, Val Acc: 0.2126, LR = 0.000295, Epoch time = 33.86s\n",
      "(model saved)\n"
     ]
    },
    {
     "name": "stderr",
     "output_type": "stream",
     "text": [
      "                                                             \r"
     ]
    },
    {
     "name": "stdout",
     "output_type": "stream",
     "text": [
      "Epoch: 7, Train loss: 6.0146, Val loss: 6.0846, Val Acc: 0.2150, LR = 0.000293, Epoch time = 39.13s\n",
      "(model saved)\n"
     ]
    },
    {
     "name": "stderr",
     "output_type": "stream",
     "text": [
      "                                                             \r"
     ]
    },
    {
     "name": "stdout",
     "output_type": "stream",
     "text": [
      "Epoch: 8, Train loss: 5.9345, Val loss: 6.0100, Val Acc: 0.2212, LR = 0.000291, Epoch time = 36.38s\n",
      "(model saved)\n"
     ]
    },
    {
     "name": "stderr",
     "output_type": "stream",
     "text": [
      "                                                             \r"
     ]
    },
    {
     "name": "stdout",
     "output_type": "stream",
     "text": [
      "Epoch: 9, Train loss: 5.8621, Val loss: 5.9532, Val Acc: 0.2203, LR = 0.000289, Epoch time = 33.12s\n"
     ]
    },
    {
     "name": "stderr",
     "output_type": "stream",
     "text": [
      "                                                             \r"
     ]
    },
    {
     "name": "stdout",
     "output_type": "stream",
     "text": [
      "Epoch: 10, Train loss: 5.7929, Val loss: 5.9051, Val Acc: 0.2330, LR = 0.000286, Epoch time = 33.42s\n",
      "(model saved)\n"
     ]
    },
    {
     "name": "stderr",
     "output_type": "stream",
     "text": [
      "                                                             \r"
     ]
    },
    {
     "name": "stdout",
     "output_type": "stream",
     "text": [
      "Epoch: 11, Train loss: 5.7323, Val loss: 5.8612, Val Acc: 0.2297, LR = 0.000284, Epoch time = 39.03s\n"
     ]
    },
    {
     "name": "stderr",
     "output_type": "stream",
     "text": [
      "                                                             \r"
     ]
    },
    {
     "name": "stdout",
     "output_type": "stream",
     "text": [
      "Epoch: 12, Train loss: 5.6766, Val loss: 5.8312, Val Acc: 0.2314, LR = 0.000281, Epoch time = 38.44s\n"
     ]
    },
    {
     "name": "stderr",
     "output_type": "stream",
     "text": [
      "                                                             \r"
     ]
    },
    {
     "name": "stdout",
     "output_type": "stream",
     "text": [
      "Epoch: 13, Train loss: 5.6254, Val loss: 5.7969, Val Acc: 0.2318, LR = 0.000277, Epoch time = 33.29s\n"
     ]
    },
    {
     "name": "stderr",
     "output_type": "stream",
     "text": [
      "                                                             \r"
     ]
    },
    {
     "name": "stdout",
     "output_type": "stream",
     "text": [
      "Epoch: 14, Train loss: 5.5793, Val loss: 5.7587, Val Acc: 0.2346, LR = 0.000274, Epoch time = 33.40s\n",
      "(model saved)\n"
     ]
    },
    {
     "name": "stderr",
     "output_type": "stream",
     "text": [
      "                                                             \r"
     ]
    },
    {
     "name": "stdout",
     "output_type": "stream",
     "text": [
      "Epoch: 15, Train loss: 5.5364, Val loss: 5.7514, Val Acc: 0.2340, LR = 0.000270, Epoch time = 37.02s\n"
     ]
    },
    {
     "name": "stderr",
     "output_type": "stream",
     "text": [
      "                                                             \r"
     ]
    },
    {
     "name": "stdout",
     "output_type": "stream",
     "text": [
      "Epoch: 16, Train loss: 5.4986, Val loss: 5.7199, Val Acc: 0.2425, LR = 0.000266, Epoch time = 39.13s\n",
      "(model saved)\n"
     ]
    },
    {
     "name": "stderr",
     "output_type": "stream",
     "text": [
      "                                                             \r"
     ]
    },
    {
     "name": "stdout",
     "output_type": "stream",
     "text": [
      "Epoch: 17, Train loss: 5.4655, Val loss: 5.7002, Val Acc: 0.2397, LR = 0.000262, Epoch time = 34.27s\n"
     ]
    },
    {
     "name": "stderr",
     "output_type": "stream",
     "text": [
      "                                                             \r"
     ]
    },
    {
     "name": "stdout",
     "output_type": "stream",
     "text": [
      "Epoch: 18, Train loss: 5.4334, Val loss: 5.6926, Val Acc: 0.2380, LR = 0.000258, Epoch time = 32.85s\n"
     ]
    },
    {
     "name": "stderr",
     "output_type": "stream",
     "text": [
      "                                                             \r"
     ]
    },
    {
     "name": "stdout",
     "output_type": "stream",
     "text": [
      "Epoch: 19, Train loss: 5.4059, Val loss: 5.6790, Val Acc: 0.2376, LR = 0.000253, Epoch time = 34.71s\n"
     ]
    },
    {
     "name": "stderr",
     "output_type": "stream",
     "text": [
      "                                                             \r"
     ]
    },
    {
     "name": "stdout",
     "output_type": "stream",
     "text": [
      "Epoch: 20, Train loss: 5.3773, Val loss: 5.6666, Val Acc: 0.2341, LR = 0.000248, Epoch time = 39.12s\n"
     ]
    },
    {
     "name": "stderr",
     "output_type": "stream",
     "text": [
      "                                                             \r"
     ]
    },
    {
     "name": "stdout",
     "output_type": "stream",
     "text": [
      "Epoch: 21, Train loss: 5.3509, Val loss: 5.6565, Val Acc: 0.2459, LR = 0.000244, Epoch time = 37.22s\n",
      "(model saved)\n"
     ]
    },
    {
     "name": "stderr",
     "output_type": "stream",
     "text": [
      "                                                             \r"
     ]
    },
    {
     "name": "stdout",
     "output_type": "stream",
     "text": [
      "Epoch: 22, Train loss: 5.3312, Val loss: 5.6447, Val Acc: 0.2441, LR = 0.000239, Epoch time = 33.07s\n"
     ]
    },
    {
     "name": "stderr",
     "output_type": "stream",
     "text": [
      "                                                             \r"
     ]
    },
    {
     "name": "stdout",
     "output_type": "stream",
     "text": [
      "Epoch: 23, Train loss: 5.3081, Val loss: 5.6367, Val Acc: 0.2409, LR = 0.000233, Epoch time = 33.48s\n"
     ]
    },
    {
     "name": "stderr",
     "output_type": "stream",
     "text": [
      "                                                             \r"
     ]
    },
    {
     "name": "stdout",
     "output_type": "stream",
     "text": [
      "Epoch: 24, Train loss: 5.2908, Val loss: 5.6298, Val Acc: 0.2415, LR = 0.000228, Epoch time = 38.03s\n"
     ]
    },
    {
     "name": "stderr",
     "output_type": "stream",
     "text": [
      "                                                             \r"
     ]
    },
    {
     "name": "stdout",
     "output_type": "stream",
     "text": [
      "Epoch: 25, Train loss: 5.2733, Val loss: 5.6191, Val Acc: 0.2420, LR = 0.000223, Epoch time = 39.12s\n"
     ]
    },
    {
     "name": "stderr",
     "output_type": "stream",
     "text": [
      "                                                             \r"
     ]
    },
    {
     "name": "stdout",
     "output_type": "stream",
     "text": [
      "Epoch: 26, Train loss: 5.2548, Val loss: 5.6198, Val Acc: 0.2507, LR = 0.000217, Epoch time = 33.85s\n",
      "(model saved)\n"
     ]
    },
    {
     "name": "stderr",
     "output_type": "stream",
     "text": [
      "                                                             \r"
     ]
    },
    {
     "name": "stdout",
     "output_type": "stream",
     "text": [
      "Epoch: 27, Train loss: 5.2389, Val loss: 5.6129, Val Acc: 0.2485, LR = 0.000212, Epoch time = 33.37s\n"
     ]
    },
    {
     "name": "stderr",
     "output_type": "stream",
     "text": [
      "                                                             \r"
     ]
    },
    {
     "name": "stdout",
     "output_type": "stream",
     "text": [
      "Epoch: 28, Train loss: 5.2239, Val loss: 5.6018, Val Acc: 0.2494, LR = 0.000206, Epoch time = 35.36s\n"
     ]
    },
    {
     "name": "stderr",
     "output_type": "stream",
     "text": [
      "                                                             \r"
     ]
    },
    {
     "name": "stdout",
     "output_type": "stream",
     "text": [
      "Epoch: 29, Train loss: 5.2095, Val loss: 5.6024, Val Acc: 0.2519, LR = 0.000200, Epoch time = 39.13s\n",
      "(model saved)\n"
     ]
    },
    {
     "name": "stderr",
     "output_type": "stream",
     "text": [
      "                                                             \r"
     ]
    },
    {
     "name": "stdout",
     "output_type": "stream",
     "text": [
      "Epoch: 30, Train loss: 5.1957, Val loss: 5.5898, Val Acc: 0.2519, LR = 0.000194, Epoch time = 35.68s\n"
     ]
    },
    {
     "name": "stderr",
     "output_type": "stream",
     "text": [
      "                                                             \r"
     ]
    },
    {
     "name": "stdout",
     "output_type": "stream",
     "text": [
      "Epoch: 31, Train loss: 5.1834, Val loss: 5.5918, Val Acc: 0.2480, LR = 0.000189, Epoch time = 33.34s\n"
     ]
    },
    {
     "name": "stderr",
     "output_type": "stream",
     "text": [
      "                                                             \r"
     ]
    },
    {
     "name": "stdout",
     "output_type": "stream",
     "text": [
      "Epoch: 32, Train loss: 5.1722, Val loss: 5.5843, Val Acc: 0.2499, LR = 0.000183, Epoch time = 33.57s\n"
     ]
    },
    {
     "name": "stderr",
     "output_type": "stream",
     "text": [
      "                                                             \r"
     ]
    },
    {
     "name": "stdout",
     "output_type": "stream",
     "text": [
      "Epoch: 33, Train loss: 5.1568, Val loss: 5.5799, Val Acc: 0.2480, LR = 0.000177, Epoch time = 39.09s\n"
     ]
    },
    {
     "name": "stderr",
     "output_type": "stream",
     "text": [
      "                                                             \r"
     ]
    },
    {
     "name": "stdout",
     "output_type": "stream",
     "text": [
      "Epoch: 34, Train loss: 5.1473, Val loss: 5.5831, Val Acc: 0.2480, LR = 0.000171, Epoch time = 38.39s\n"
     ]
    },
    {
     "name": "stderr",
     "output_type": "stream",
     "text": [
      "                                                             \r"
     ]
    },
    {
     "name": "stdout",
     "output_type": "stream",
     "text": [
      "Epoch: 35, Train loss: 5.1347, Val loss: 5.5793, Val Acc: 0.2531, LR = 0.000165, Epoch time = 33.41s\n",
      "(model saved)\n"
     ]
    },
    {
     "name": "stderr",
     "output_type": "stream",
     "text": [
      "                                                             \r"
     ]
    },
    {
     "name": "stdout",
     "output_type": "stream",
     "text": [
      "Epoch: 36, Train loss: 5.1292, Val loss: 5.5727, Val Acc: 0.2532, LR = 0.000159, Epoch time = 33.38s\n",
      "(model saved)\n"
     ]
    },
    {
     "name": "stderr",
     "output_type": "stream",
     "text": [
      "                                                             \r"
     ]
    },
    {
     "name": "stdout",
     "output_type": "stream",
     "text": [
      "Epoch: 37, Train loss: 5.1194, Val loss: 5.5836, Val Acc: 0.2516, LR = 0.000153, Epoch time = 37.90s\n"
     ]
    },
    {
     "name": "stderr",
     "output_type": "stream",
     "text": [
      "                                                             \r"
     ]
    },
    {
     "name": "stdout",
     "output_type": "stream",
     "text": [
      "Epoch: 38, Train loss: 5.1102, Val loss: 5.5785, Val Acc: 0.2491, LR = 0.000148, Epoch time = 39.12s\n"
     ]
    },
    {
     "name": "stderr",
     "output_type": "stream",
     "text": [
      "                                                             \r"
     ]
    },
    {
     "name": "stdout",
     "output_type": "stream",
     "text": [
      "Epoch: 39, Train loss: 5.1009, Val loss: 5.5750, Val Acc: 0.2518, LR = 0.000142, Epoch time = 34.11s\n"
     ]
    },
    {
     "name": "stderr",
     "output_type": "stream",
     "text": [
      "                                                             \r"
     ]
    },
    {
     "name": "stdout",
     "output_type": "stream",
     "text": [
      "Epoch: 40, Train loss: 5.0970, Val loss: 5.5744, Val Acc: 0.2505, LR = 0.000136, Epoch time = 32.94s\n"
     ]
    },
    {
     "name": "stderr",
     "output_type": "stream",
     "text": [
      "                                                             \r"
     ]
    },
    {
     "name": "stdout",
     "output_type": "stream",
     "text": [
      "Epoch: 41, Train loss: 5.0891, Val loss: 5.5717, Val Acc: 0.2529, LR = 0.000131, Epoch time = 34.69s\n"
     ]
    },
    {
     "name": "stderr",
     "output_type": "stream",
     "text": [
      "                                                             \r"
     ]
    },
    {
     "name": "stdout",
     "output_type": "stream",
     "text": [
      "Epoch: 42, Train loss: 5.0825, Val loss: 5.5771, Val Acc: 0.2518, LR = 0.000125, Epoch time = 39.10s\n"
     ]
    },
    {
     "name": "stderr",
     "output_type": "stream",
     "text": [
      "                                                             \r"
     ]
    },
    {
     "name": "stdout",
     "output_type": "stream",
     "text": [
      "Epoch: 43, Train loss: 5.0738, Val loss: 5.5742, Val Acc: 0.2527, LR = 0.000120, Epoch time = 37.26s\n"
     ]
    },
    {
     "name": "stderr",
     "output_type": "stream",
     "text": [
      "                                                             \r"
     ]
    },
    {
     "name": "stdout",
     "output_type": "stream",
     "text": [
      "Epoch: 44, Train loss: 5.0660, Val loss: 5.5627, Val Acc: 0.2537, LR = 0.000115, Epoch time = 33.21s\n",
      "(model saved)\n"
     ]
    },
    {
     "name": "stderr",
     "output_type": "stream",
     "text": [
      "                                                             \r"
     ]
    },
    {
     "name": "stdout",
     "output_type": "stream",
     "text": [
      "Epoch: 45, Train loss: 5.0635, Val loss: 5.5646, Val Acc: 0.2532, LR = 0.000110, Epoch time = 33.33s\n"
     ]
    },
    {
     "name": "stderr",
     "output_type": "stream",
     "text": [
      "                                                             \r"
     ]
    },
    {
     "name": "stdout",
     "output_type": "stream",
     "text": [
      "Epoch: 46, Train loss: 5.0534, Val loss: 5.5640, Val Acc: 0.2530, LR = 0.000105, Epoch time = 37.59s\n"
     ]
    },
    {
     "name": "stderr",
     "output_type": "stream",
     "text": [
      "                                                             \r"
     ]
    },
    {
     "name": "stdout",
     "output_type": "stream",
     "text": [
      "Epoch: 47, Train loss: 5.0498, Val loss: 5.5635, Val Acc: 0.2548, LR = 0.000100, Epoch time = 39.13s\n",
      "(model saved)\n"
     ]
    },
    {
     "name": "stderr",
     "output_type": "stream",
     "text": [
      "                                                             \r"
     ]
    },
    {
     "name": "stdout",
     "output_type": "stream",
     "text": [
      "Epoch: 48, Train loss: 5.0408, Val loss: 5.5653, Val Acc: 0.2538, LR = 0.000095, Epoch time = 33.49s\n"
     ]
    },
    {
     "name": "stderr",
     "output_type": "stream",
     "text": [
      "                                                             \r"
     ]
    },
    {
     "name": "stdout",
     "output_type": "stream",
     "text": [
      "Epoch: 49, Train loss: 5.0355, Val loss: 5.5634, Val Acc: 0.2565, LR = 0.000091, Epoch time = 33.24s\n",
      "(model saved)\n"
     ]
    },
    {
     "name": "stderr",
     "output_type": "stream",
     "text": [
      "                                                             \r"
     ]
    },
    {
     "name": "stdout",
     "output_type": "stream",
     "text": [
      "Epoch: 50, Train loss: 5.0311, Val loss: 5.5607, Val Acc: 0.2520, LR = 0.000087, Epoch time = 36.18s\n"
     ]
    },
    {
     "name": "stderr",
     "output_type": "stream",
     "text": [
      "                                                             \r"
     ]
    },
    {
     "name": "stdout",
     "output_type": "stream",
     "text": [
      "Epoch: 51, Train loss: 5.0297, Val loss: 5.5608, Val Acc: 0.2503, LR = 0.000082, Epoch time = 39.12s\n"
     ]
    },
    {
     "name": "stderr",
     "output_type": "stream",
     "text": [
      "                                                             \r"
     ]
    },
    {
     "name": "stdout",
     "output_type": "stream",
     "text": [
      "Epoch: 52, Train loss: 5.0251, Val loss: 5.5595, Val Acc: 0.2539, LR = 0.000079, Epoch time = 35.63s\n"
     ]
    },
    {
     "name": "stderr",
     "output_type": "stream",
     "text": [
      "                                                             \r"
     ]
    },
    {
     "name": "stdout",
     "output_type": "stream",
     "text": [
      "Epoch: 53, Train loss: 5.0194, Val loss: 5.5572, Val Acc: 0.2513, LR = 0.000075, Epoch time = 33.52s\n"
     ]
    },
    {
     "name": "stderr",
     "output_type": "stream",
     "text": [
      "                                                             \r"
     ]
    },
    {
     "name": "stdout",
     "output_type": "stream",
     "text": [
      "Epoch: 54, Train loss: 5.0139, Val loss: 5.5610, Val Acc: 0.2544, LR = 0.000072, Epoch time = 33.15s\n"
     ]
    },
    {
     "name": "stderr",
     "output_type": "stream",
     "text": [
      "                                                             \r"
     ]
    },
    {
     "name": "stdout",
     "output_type": "stream",
     "text": [
      "Epoch: 55, Train loss: 5.0125, Val loss: 5.5566, Val Acc: 0.2572, LR = 0.000068, Epoch time = 38.71s\n",
      "(model saved)\n"
     ]
    },
    {
     "name": "stderr",
     "output_type": "stream",
     "text": [
      "                                                             \r"
     ]
    },
    {
     "name": "stdout",
     "output_type": "stream",
     "text": [
      "Epoch: 56, Train loss: 5.0077, Val loss: 5.5547, Val Acc: 0.2525, LR = 0.000065, Epoch time = 37.98s\n"
     ]
    },
    {
     "name": "stderr",
     "output_type": "stream",
     "text": [
      "                                                             \r"
     ]
    },
    {
     "name": "stdout",
     "output_type": "stream",
     "text": [
      "Epoch: 57, Train loss: 5.0058, Val loss: 5.5551, Val Acc: 0.2551, LR = 0.000063, Epoch time = 33.21s\n"
     ]
    },
    {
     "name": "stderr",
     "output_type": "stream",
     "text": [
      "                                                             \r"
     ]
    },
    {
     "name": "stdout",
     "output_type": "stream",
     "text": [
      "Epoch: 58, Train loss: 5.0033, Val loss: 5.5566, Val Acc: 0.2543, LR = 0.000060, Epoch time = 33.24s\n"
     ]
    },
    {
     "name": "stderr",
     "output_type": "stream",
     "text": [
      "                                                             \r"
     ]
    },
    {
     "name": "stdout",
     "output_type": "stream",
     "text": [
      "Epoch: 59, Train loss: 4.9976, Val loss: 5.5517, Val Acc: 0.2544, LR = 0.000058, Epoch time = 36.48s\n"
     ]
    },
    {
     "name": "stderr",
     "output_type": "stream",
     "text": [
      "                                                             \r"
     ]
    },
    {
     "name": "stdout",
     "output_type": "stream",
     "text": [
      "Epoch: 60, Train loss: 4.9993, Val loss: 5.5498, Val Acc: 0.2549, LR = 0.000056, Epoch time = 39.11s\n"
     ]
    },
    {
     "name": "stderr",
     "output_type": "stream",
     "text": [
      "                                                             \r"
     ]
    },
    {
     "name": "stdout",
     "output_type": "stream",
     "text": [
      "Epoch: 61, Train loss: 4.9951, Val loss: 5.5518, Val Acc: 0.2533, LR = 0.000054, Epoch time = 35.34s\n"
     ]
    },
    {
     "name": "stderr",
     "output_type": "stream",
     "text": [
      "                                                             \r"
     ]
    },
    {
     "name": "stdout",
     "output_type": "stream",
     "text": [
      "Epoch: 62, Train loss: 4.9928, Val loss: 5.5527, Val Acc: 0.2560, LR = 0.000053, Epoch time = 33.36s\n"
     ]
    },
    {
     "name": "stderr",
     "output_type": "stream",
     "text": [
      "                                                             \r"
     ]
    },
    {
     "name": "stdout",
     "output_type": "stream",
     "text": [
      "Epoch: 63, Train loss: 4.9920, Val loss: 5.5546, Val Acc: 0.2546, LR = 0.000052, Epoch time = 33.16s\n"
     ]
    },
    {
     "name": "stderr",
     "output_type": "stream",
     "text": [
      "                                                             \r"
     ]
    },
    {
     "name": "stdout",
     "output_type": "stream",
     "text": [
      "Epoch: 64, Train loss: 4.9897, Val loss: 5.5490, Val Acc: 0.2544, LR = 0.000051, Epoch time = 38.64s\n"
     ]
    },
    {
     "name": "stderr",
     "output_type": "stream",
     "text": [
      "                                                             \r"
     ]
    },
    {
     "name": "stdout",
     "output_type": "stream",
     "text": [
      "Epoch: 65, Train loss: 4.9874, Val loss: 5.5531, Val Acc: 0.2534, LR = 0.000050, Epoch time = 38.86s\n"
     ]
    },
    {
     "name": "stderr",
     "output_type": "stream",
     "text": [
      "                                                             \r"
     ]
    },
    {
     "name": "stdout",
     "output_type": "stream",
     "text": [
      "Epoch: 66, Train loss: 4.9850, Val loss: 5.5506, Val Acc: 0.2548, LR = 0.000050, Epoch time = 33.39s\n"
     ]
    },
    {
     "name": "stderr",
     "output_type": "stream",
     "text": [
      "                                                             \r"
     ]
    },
    {
     "name": "stdout",
     "output_type": "stream",
     "text": [
      "Epoch: 67, Train loss: 5.0070, Val loss: 5.5798, Val Acc: 0.2488, LR = 0.000300, Epoch time = 33.39s\n"
     ]
    },
    {
     "name": "stderr",
     "output_type": "stream",
     "text": [
      "                                                             \r"
     ]
    },
    {
     "name": "stdout",
     "output_type": "stream",
     "text": [
      "Epoch: 68, Train loss: 5.0808, Val loss: 5.5600, Val Acc: 0.2493, LR = 0.000300, Epoch time = 35.74s\n"
     ]
    },
    {
     "name": "stderr",
     "output_type": "stream",
     "text": [
      "                                                             \r"
     ]
    },
    {
     "name": "stdout",
     "output_type": "stream",
     "text": [
      "Epoch: 69, Train loss: 5.0746, Val loss: 5.5600, Val Acc: 0.2493, LR = 0.000299, Epoch time = 39.10s\n"
     ]
    },
    {
     "name": "stderr",
     "output_type": "stream",
     "text": [
      "                                                             \r"
     ]
    },
    {
     "name": "stdout",
     "output_type": "stream",
     "text": [
      "Epoch: 70, Train loss: 5.0654, Val loss: 5.5696, Val Acc: 0.2514, LR = 0.000298, Epoch time = 36.33s\n"
     ]
    },
    {
     "name": "stderr",
     "output_type": "stream",
     "text": [
      "                                                             \r"
     ]
    },
    {
     "name": "stdout",
     "output_type": "stream",
     "text": [
      "Epoch: 71, Train loss: 5.0586, Val loss: 5.5522, Val Acc: 0.2540, LR = 0.000297, Epoch time = 33.27s\n"
     ]
    },
    {
     "name": "stderr",
     "output_type": "stream",
     "text": [
      "                                                             \r"
     ]
    },
    {
     "name": "stdout",
     "output_type": "stream",
     "text": [
      "Epoch: 72, Train loss: 5.0537, Val loss: 5.5586, Val Acc: 0.2490, LR = 0.000296, Epoch time = 33.38s\n"
     ]
    },
    {
     "name": "stderr",
     "output_type": "stream",
     "text": [
      "                                                             \r"
     ]
    },
    {
     "name": "stdout",
     "output_type": "stream",
     "text": [
      "Epoch: 73, Train loss: 5.0508, Val loss: 5.5543, Val Acc: 0.2523, LR = 0.000294, Epoch time = 38.20s\n"
     ]
    },
    {
     "name": "stderr",
     "output_type": "stream",
     "text": [
      "                                                             \r"
     ]
    },
    {
     "name": "stdout",
     "output_type": "stream",
     "text": [
      "Epoch: 74, Train loss: 5.0444, Val loss: 5.5436, Val Acc: 0.2455, LR = 0.000293, Epoch time = 39.12s\n"
     ]
    },
    {
     "name": "stderr",
     "output_type": "stream",
     "text": [
      "                                                             \r"
     ]
    },
    {
     "name": "stdout",
     "output_type": "stream",
     "text": [
      "Epoch: 75, Train loss: 5.0408, Val loss: 5.5419, Val Acc: 0.2554, LR = 0.000290, Epoch time = 33.54s\n"
     ]
    },
    {
     "name": "stderr",
     "output_type": "stream",
     "text": [
      "                                                             \r"
     ]
    },
    {
     "name": "stdout",
     "output_type": "stream",
     "text": [
      "Epoch: 76, Train loss: 5.0332, Val loss: 5.5563, Val Acc: 0.2484, LR = 0.000288, Epoch time = 33.36s\n"
     ]
    },
    {
     "name": "stderr",
     "output_type": "stream",
     "text": [
      "                                                             \r"
     ]
    },
    {
     "name": "stdout",
     "output_type": "stream",
     "text": [
      "Epoch: 77, Train loss: 5.0293, Val loss: 5.5584, Val Acc: 0.2515, LR = 0.000285, Epoch time = 35.50s\n"
     ]
    },
    {
     "name": "stderr",
     "output_type": "stream",
     "text": [
      "                                                             \r"
     ]
    },
    {
     "name": "stdout",
     "output_type": "stream",
     "text": [
      "Epoch: 78, Train loss: 5.0248, Val loss: 5.5467, Val Acc: 0.2500, LR = 0.000282, Epoch time = 39.13s\n"
     ]
    },
    {
     "name": "stderr",
     "output_type": "stream",
     "text": [
      "                                                             \r"
     ]
    },
    {
     "name": "stdout",
     "output_type": "stream",
     "text": [
      "Epoch: 79, Train loss: 5.0227, Val loss: 5.5475, Val Acc: 0.2503, LR = 0.000279, Epoch time = 21.85s\n"
     ]
    },
    {
     "name": "stderr",
     "output_type": "stream",
     "text": [
      "                                                             \r"
     ]
    },
    {
     "name": "stdout",
     "output_type": "stream",
     "text": [
      "Epoch: 80, Train loss: 5.0177, Val loss: 5.5549, Val Acc: 0.2541, LR = 0.000276, Epoch time = 21.86s\n"
     ]
    },
    {
     "name": "stderr",
     "output_type": "stream",
     "text": [
      "                                                             \r"
     ]
    },
    {
     "name": "stdout",
     "output_type": "stream",
     "text": [
      "Epoch: 81, Train loss: 5.0135, Val loss: 5.5485, Val Acc: 0.2519, LR = 0.000272, Epoch time = 21.87s\n"
     ]
    },
    {
     "name": "stderr",
     "output_type": "stream",
     "text": [
      "                                                             \r"
     ]
    },
    {
     "name": "stdout",
     "output_type": "stream",
     "text": [
      "Epoch: 82, Train loss: 5.0043, Val loss: 5.5488, Val Acc: 0.2479, LR = 0.000269, Epoch time = 21.85s\n"
     ]
    },
    {
     "name": "stderr",
     "output_type": "stream",
     "text": [
      "                                                             \r"
     ]
    },
    {
     "name": "stdout",
     "output_type": "stream",
     "text": [
      "Epoch: 83, Train loss: 4.9989, Val loss: 5.5487, Val Acc: 0.2518, LR = 0.000265, Epoch time = 21.84s\n"
     ]
    },
    {
     "name": "stderr",
     "output_type": "stream",
     "text": [
      "                                                             \r"
     ]
    },
    {
     "name": "stdout",
     "output_type": "stream",
     "text": [
      "Epoch: 84, Train loss: 4.9950, Val loss: 5.5565, Val Acc: 0.2507, LR = 0.000260, Epoch time = 21.86s\n"
     ]
    },
    {
     "name": "stderr",
     "output_type": "stream",
     "text": [
      "                                                             \r"
     ]
    },
    {
     "name": "stdout",
     "output_type": "stream",
     "text": [
      "Epoch: 85, Train loss: 4.9914, Val loss: 5.5456, Val Acc: 0.2507, LR = 0.000256, Epoch time = 21.85s\n"
     ]
    },
    {
     "name": "stderr",
     "output_type": "stream",
     "text": [
      "                                                             \r"
     ]
    },
    {
     "name": "stdout",
     "output_type": "stream",
     "text": [
      "Epoch: 86, Train loss: 4.9869, Val loss: 5.5418, Val Acc: 0.2483, LR = 0.000251, Epoch time = 21.85s\n"
     ]
    },
    {
     "name": "stderr",
     "output_type": "stream",
     "text": [
      "                                                             \r"
     ]
    },
    {
     "name": "stdout",
     "output_type": "stream",
     "text": [
      "Epoch: 87, Train loss: 4.9810, Val loss: 5.5492, Val Acc: 0.2518, LR = 0.000247, Epoch time = 21.88s\n"
     ]
    },
    {
     "name": "stderr",
     "output_type": "stream",
     "text": [
      "                                                             \r"
     ]
    },
    {
     "name": "stdout",
     "output_type": "stream",
     "text": [
      "Epoch: 88, Train loss: 4.9769, Val loss: 5.5362, Val Acc: 0.2542, LR = 0.000242, Epoch time = 21.86s\n"
     ]
    },
    {
     "name": "stderr",
     "output_type": "stream",
     "text": [
      "                                                             \r"
     ]
    },
    {
     "name": "stdout",
     "output_type": "stream",
     "text": [
      "Epoch: 89, Train loss: 4.9705, Val loss: 5.5376, Val Acc: 0.2540, LR = 0.000237, Epoch time = 21.85s\n"
     ]
    },
    {
     "name": "stderr",
     "output_type": "stream",
     "text": [
      "                                                             \r"
     ]
    },
    {
     "name": "stdout",
     "output_type": "stream",
     "text": [
      "Epoch: 90, Train loss: 4.9643, Val loss: 5.5253, Val Acc: 0.2550, LR = 0.000231, Epoch time = 21.85s\n"
     ]
    },
    {
     "name": "stderr",
     "output_type": "stream",
     "text": [
      "                                                             \r"
     ]
    },
    {
     "name": "stdout",
     "output_type": "stream",
     "text": [
      "Epoch: 91, Train loss: 4.9636, Val loss: 5.5307, Val Acc: 0.2556, LR = 0.000226, Epoch time = 21.85s\n"
     ]
    },
    {
     "name": "stderr",
     "output_type": "stream",
     "text": [
      "                                                             \r"
     ]
    },
    {
     "name": "stdout",
     "output_type": "stream",
     "text": [
      "Epoch: 92, Train loss: 4.9564, Val loss: 5.5334, Val Acc: 0.2546, LR = 0.000221, Epoch time = 21.86s\n"
     ]
    },
    {
     "name": "stderr",
     "output_type": "stream",
     "text": [
      "                                                             \r"
     ]
    },
    {
     "name": "stdout",
     "output_type": "stream",
     "text": [
      "Epoch: 93, Train loss: 4.9531, Val loss: 5.5236, Val Acc: 0.2557, LR = 0.000215, Epoch time = 21.85s\n"
     ]
    },
    {
     "name": "stderr",
     "output_type": "stream",
     "text": [
      "                                                             \r"
     ]
    },
    {
     "name": "stdout",
     "output_type": "stream",
     "text": [
      "Epoch: 94, Train loss: 4.9489, Val loss: 5.5382, Val Acc: 0.2591, LR = 0.000210, Epoch time = 21.85s\n",
      "(model saved)\n"
     ]
    },
    {
     "name": "stderr",
     "output_type": "stream",
     "text": [
      "                                                             \r"
     ]
    },
    {
     "name": "stdout",
     "output_type": "stream",
     "text": [
      "Epoch: 95, Train loss: 4.9415, Val loss: 5.5427, Val Acc: 0.2564, LR = 0.000204, Epoch time = 21.87s\n"
     ]
    },
    {
     "name": "stderr",
     "output_type": "stream",
     "text": [
      "                                                             \r"
     ]
    },
    {
     "name": "stdout",
     "output_type": "stream",
     "text": [
      "Epoch: 96, Train loss: 4.9391, Val loss: 5.5336, Val Acc: 0.2563, LR = 0.000198, Epoch time = 21.86s\n"
     ]
    },
    {
     "name": "stderr",
     "output_type": "stream",
     "text": [
      "                                                             \r"
     ]
    },
    {
     "name": "stdout",
     "output_type": "stream",
     "text": [
      "Epoch: 97, Train loss: 4.9354, Val loss: 5.5288, Val Acc: 0.2576, LR = 0.000192, Epoch time = 21.86s\n"
     ]
    },
    {
     "name": "stderr",
     "output_type": "stream",
     "text": [
      "                                                             \r"
     ]
    },
    {
     "name": "stdout",
     "output_type": "stream",
     "text": [
      "Epoch: 98, Train loss: 4.9291, Val loss: 5.5337, Val Acc: 0.2589, LR = 0.000186, Epoch time = 21.84s\n"
     ]
    },
    {
     "name": "stderr",
     "output_type": "stream",
     "text": [
      "                                                             \r"
     ]
    },
    {
     "name": "stdout",
     "output_type": "stream",
     "text": [
      "Epoch: 99, Train loss: 4.9261, Val loss: 5.5356, Val Acc: 0.2549, LR = 0.000181, Epoch time = 21.85s\n"
     ]
    },
    {
     "name": "stderr",
     "output_type": "stream",
     "text": [
      "                                                             \r"
     ]
    },
    {
     "name": "stdout",
     "output_type": "stream",
     "text": [
      "Epoch: 100, Train loss: 4.9228, Val loss: 5.5260, Val Acc: 0.2539, LR = 0.000175, Epoch time = 21.85s\n"
     ]
    },
    {
     "name": "stderr",
     "output_type": "stream",
     "text": [
      "                                                             \r"
     ]
    },
    {
     "name": "stdout",
     "output_type": "stream",
     "text": [
      "Epoch: 101, Train loss: 4.9194, Val loss: 5.5322, Val Acc: 0.2530, LR = 0.000169, Epoch time = 21.88s\n"
     ]
    },
    {
     "name": "stderr",
     "output_type": "stream",
     "text": [
      "                                                             \r"
     ]
    },
    {
     "name": "stdout",
     "output_type": "stream",
     "text": [
      "Epoch: 102, Train loss: 4.9114, Val loss: 5.5328, Val Acc: 0.2531, LR = 0.000163, Epoch time = 21.84s\n"
     ]
    },
    {
     "name": "stderr",
     "output_type": "stream",
     "text": [
      "                                                             \r"
     ]
    },
    {
     "name": "stdout",
     "output_type": "stream",
     "text": [
      "Epoch: 103, Train loss: 4.9093, Val loss: 5.5401, Val Acc: 0.2552, LR = 0.000157, Epoch time = 21.87s\n"
     ]
    },
    {
     "name": "stderr",
     "output_type": "stream",
     "text": [
      "                                                             \r"
     ]
    },
    {
     "name": "stdout",
     "output_type": "stream",
     "text": [
      "Epoch: 104, Train loss: 4.9067, Val loss: 5.5317, Val Acc: 0.2545, LR = 0.000151, Epoch time = 21.86s\n"
     ]
    },
    {
     "name": "stderr",
     "output_type": "stream",
     "text": [
      "                                                             \r"
     ]
    },
    {
     "name": "stdout",
     "output_type": "stream",
     "text": [
      "Epoch: 105, Train loss: 4.8997, Val loss: 5.5394, Val Acc: 0.2508, LR = 0.000145, Epoch time = 21.86s\n"
     ]
    },
    {
     "name": "stderr",
     "output_type": "stream",
     "text": [
      "                                                             \r"
     ]
    },
    {
     "name": "stdout",
     "output_type": "stream",
     "text": [
      "Epoch: 106, Train loss: 4.8994, Val loss: 5.5263, Val Acc: 0.2567, LR = 0.000140, Epoch time = 21.85s\n"
     ]
    },
    {
     "name": "stderr",
     "output_type": "stream",
     "text": [
      "                                                             \r"
     ]
    },
    {
     "name": "stdout",
     "output_type": "stream",
     "text": [
      "Epoch: 107, Train loss: 4.8958, Val loss: 5.5259, Val Acc: 0.2561, LR = 0.000134, Epoch time = 21.87s\n"
     ]
    },
    {
     "name": "stderr",
     "output_type": "stream",
     "text": [
      "                                                             \r"
     ]
    },
    {
     "name": "stdout",
     "output_type": "stream",
     "text": [
      "Epoch: 108, Train loss: 4.8900, Val loss: 5.5262, Val Acc: 0.2614, LR = 0.000129, Epoch time = 21.87s\n",
      "(model saved)\n"
     ]
    },
    {
     "name": "stderr",
     "output_type": "stream",
     "text": [
      "                                                             \r"
     ]
    },
    {
     "name": "stdout",
     "output_type": "stream",
     "text": [
      "Epoch: 109, Train loss: 4.8883, Val loss: 5.5250, Val Acc: 0.2596, LR = 0.000123, Epoch time = 21.87s\n"
     ]
    },
    {
     "name": "stderr",
     "output_type": "stream",
     "text": [
      "                                                             \r"
     ]
    },
    {
     "name": "stdout",
     "output_type": "stream",
     "text": [
      "Epoch: 110, Train loss: 4.8860, Val loss: 5.5307, Val Acc: 0.2523, LR = 0.000118, Epoch time = 21.85s\n"
     ]
    },
    {
     "name": "stderr",
     "output_type": "stream",
     "text": [
      "                                                             \r"
     ]
    },
    {
     "name": "stdout",
     "output_type": "stream",
     "text": [
      "Epoch: 111, Train loss: 4.8811, Val loss: 5.5304, Val Acc: 0.2586, LR = 0.000113, Epoch time = 21.86s\n"
     ]
    },
    {
     "name": "stderr",
     "output_type": "stream",
     "text": [
      "                                                             \r"
     ]
    },
    {
     "name": "stdout",
     "output_type": "stream",
     "text": [
      "Epoch: 112, Train loss: 4.8780, Val loss: 5.5292, Val Acc: 0.2531, LR = 0.000108, Epoch time = 21.87s\n"
     ]
    },
    {
     "name": "stderr",
     "output_type": "stream",
     "text": [
      "                                                             \r"
     ]
    },
    {
     "name": "stdout",
     "output_type": "stream",
     "text": [
      "Epoch: 113, Train loss: 4.8763, Val loss: 5.5312, Val Acc: 0.2545, LR = 0.000103, Epoch time = 21.86s\n"
     ]
    },
    {
     "name": "stderr",
     "output_type": "stream",
     "text": [
      "                                                             \r"
     ]
    },
    {
     "name": "stdout",
     "output_type": "stream",
     "text": [
      "Epoch: 114, Train loss: 4.8718, Val loss: 5.5292, Val Acc: 0.2562, LR = 0.000098, Epoch time = 21.85s\n"
     ]
    },
    {
     "name": "stderr",
     "output_type": "stream",
     "text": [
      "                                                             \r"
     ]
    },
    {
     "name": "stdout",
     "output_type": "stream",
     "text": [
      "Epoch: 115, Train loss: 4.8671, Val loss: 5.5273, Val Acc: 0.2574, LR = 0.000094, Epoch time = 21.87s\n"
     ]
    },
    {
     "name": "stderr",
     "output_type": "stream",
     "text": [
      "                                                             \r"
     ]
    },
    {
     "name": "stdout",
     "output_type": "stream",
     "text": [
      "Epoch: 116, Train loss: 4.8660, Val loss: 5.5201, Val Acc: 0.2547, LR = 0.000089, Epoch time = 21.85s\n"
     ]
    },
    {
     "name": "stderr",
     "output_type": "stream",
     "text": [
      "                                                             \r"
     ]
    },
    {
     "name": "stdout",
     "output_type": "stream",
     "text": [
      "Epoch: 117, Train loss: 4.8647, Val loss: 5.5313, Val Acc: 0.2555, LR = 0.000085, Epoch time = 21.86s\n"
     ]
    },
    {
     "name": "stderr",
     "output_type": "stream",
     "text": [
      "                                                             \r"
     ]
    },
    {
     "name": "stdout",
     "output_type": "stream",
     "text": [
      "Epoch: 118, Train loss: 4.8600, Val loss: 5.5268, Val Acc: 0.2547, LR = 0.000081, Epoch time = 21.85s\n"
     ]
    },
    {
     "name": "stderr",
     "output_type": "stream",
     "text": [
      "                                                             \r"
     ]
    },
    {
     "name": "stdout",
     "output_type": "stream",
     "text": [
      "Epoch: 119, Train loss: 4.8588, Val loss: 5.5223, Val Acc: 0.2562, LR = 0.000077, Epoch time = 21.85s\n"
     ]
    },
    {
     "name": "stderr",
     "output_type": "stream",
     "text": [
      "                                                             \r"
     ]
    },
    {
     "name": "stdout",
     "output_type": "stream",
     "text": [
      "Epoch: 120, Train loss: 4.8556, Val loss: 5.5271, Val Acc: 0.2569, LR = 0.000074, Epoch time = 21.86s\n"
     ]
    },
    {
     "name": "stderr",
     "output_type": "stream",
     "text": [
      "                                                             \r"
     ]
    },
    {
     "name": "stdout",
     "output_type": "stream",
     "text": [
      "Epoch: 121, Train loss: 4.8525, Val loss: 5.5204, Val Acc: 0.2558, LR = 0.000070, Epoch time = 21.84s\n"
     ]
    },
    {
     "name": "stderr",
     "output_type": "stream",
     "text": [
      "                                                             \r"
     ]
    },
    {
     "name": "stdout",
     "output_type": "stream",
     "text": [
      "Epoch: 122, Train loss: 4.8489, Val loss: 5.5223, Val Acc: 0.2593, LR = 0.000067, Epoch time = 21.85s\n"
     ]
    },
    {
     "name": "stderr",
     "output_type": "stream",
     "text": [
      "                                                             \r"
     ]
    },
    {
     "name": "stdout",
     "output_type": "stream",
     "text": [
      "Epoch: 123, Train loss: 4.8483, Val loss: 5.5253, Val Acc: 0.2573, LR = 0.000064, Epoch time = 21.86s\n"
     ]
    },
    {
     "name": "stderr",
     "output_type": "stream",
     "text": [
      "                                                             \r"
     ]
    },
    {
     "name": "stdout",
     "output_type": "stream",
     "text": [
      "Epoch: 124, Train loss: 4.8465, Val loss: 5.5212, Val Acc: 0.2594, LR = 0.000062, Epoch time = 21.86s\n"
     ]
    },
    {
     "name": "stderr",
     "output_type": "stream",
     "text": [
      "                                                             \r"
     ]
    },
    {
     "name": "stdout",
     "output_type": "stream",
     "text": [
      "Epoch: 125, Train loss: 4.8444, Val loss: 5.5216, Val Acc: 0.2607, LR = 0.000059, Epoch time = 21.86s\n"
     ]
    },
    {
     "name": "stderr",
     "output_type": "stream",
     "text": [
      "                                                             \r"
     ]
    },
    {
     "name": "stdout",
     "output_type": "stream",
     "text": [
      "Epoch: 126, Train loss: 4.8424, Val loss: 5.5268, Val Acc: 0.2570, LR = 0.000057, Epoch time = 21.85s\n"
     ]
    },
    {
     "name": "stderr",
     "output_type": "stream",
     "text": [
      "                                                             \r"
     ]
    },
    {
     "name": "stdout",
     "output_type": "stream",
     "text": [
      "Epoch: 127, Train loss: 4.8384, Val loss: 5.5269, Val Acc: 0.2586, LR = 0.000055, Epoch time = 21.85s\n"
     ]
    },
    {
     "name": "stderr",
     "output_type": "stream",
     "text": [
      "                                                             \r"
     ]
    },
    {
     "name": "stdout",
     "output_type": "stream",
     "text": [
      "Epoch: 128, Train loss: 4.8384, Val loss: 5.5271, Val Acc: 0.2577, LR = 0.000054, Epoch time = 21.86s\n"
     ]
    },
    {
     "name": "stderr",
     "output_type": "stream",
     "text": [
      "                                                             \r"
     ]
    },
    {
     "name": "stdout",
     "output_type": "stream",
     "text": [
      "Epoch: 129, Train loss: 4.8365, Val loss: 5.5161, Val Acc: 0.2608, LR = 0.000053, Epoch time = 21.85s\n"
     ]
    },
    {
     "name": "stderr",
     "output_type": "stream",
     "text": [
      "                                                             \r"
     ]
    },
    {
     "name": "stdout",
     "output_type": "stream",
     "text": [
      "Epoch: 130, Train loss: 4.8333, Val loss: 5.5275, Val Acc: 0.2576, LR = 0.000051, Epoch time = 21.85s\n"
     ]
    },
    {
     "name": "stderr",
     "output_type": "stream",
     "text": [
      "                                                             \r"
     ]
    },
    {
     "name": "stdout",
     "output_type": "stream",
     "text": [
      "Epoch: 131, Train loss: 4.8363, Val loss: 5.5210, Val Acc: 0.2590, LR = 0.000051, Epoch time = 21.84s\n"
     ]
    },
    {
     "name": "stderr",
     "output_type": "stream",
     "text": [
      "                                                             \r"
     ]
    },
    {
     "name": "stdout",
     "output_type": "stream",
     "text": [
      "Epoch: 132, Train loss: 4.8354, Val loss: 5.5237, Val Acc: 0.2597, LR = 0.000050, Epoch time = 21.85s\n"
     ]
    },
    {
     "name": "stderr",
     "output_type": "stream",
     "text": [
      "                                                             \r"
     ]
    },
    {
     "name": "stdout",
     "output_type": "stream",
     "text": [
      "Epoch: 133, Train loss: 4.8329, Val loss: 5.5263, Val Acc: 0.2604, LR = 0.000050, Epoch time = 21.86s\n"
     ]
    },
    {
     "name": "stderr",
     "output_type": "stream",
     "text": [
      "                                                             \r"
     ]
    },
    {
     "name": "stdout",
     "output_type": "stream",
     "text": [
      "Epoch: 134, Train loss: 4.9065, Val loss: 5.5478, Val Acc: 0.2472, LR = 0.000300, Epoch time = 21.85s\n"
     ]
    },
    {
     "name": "stderr",
     "output_type": "stream",
     "text": [
      "                                                             \r"
     ]
    },
    {
     "name": "stdout",
     "output_type": "stream",
     "text": [
      "Epoch: 135, Train loss: 4.9471, Val loss: 5.5509, Val Acc: 0.2523, LR = 0.000300, Epoch time = 21.85s\n"
     ]
    },
    {
     "name": "stderr",
     "output_type": "stream",
     "text": [
      "                                                             \r"
     ]
    },
    {
     "name": "stdout",
     "output_type": "stream",
     "text": [
      "Epoch: 136, Train loss: 4.9447, Val loss: 5.5485, Val Acc: 0.2537, LR = 0.000299, Epoch time = 21.86s\n"
     ]
    },
    {
     "name": "stderr",
     "output_type": "stream",
     "text": [
      "                                                             \r"
     ]
    },
    {
     "name": "stdout",
     "output_type": "stream",
     "text": [
      "Epoch: 137, Train loss: 4.9433, Val loss: 5.5475, Val Acc: 0.2527, LR = 0.000298, Epoch time = 21.85s\n"
     ]
    },
    {
     "name": "stderr",
     "output_type": "stream",
     "text": [
      "                                                             \r"
     ]
    },
    {
     "name": "stdout",
     "output_type": "stream",
     "text": [
      "Epoch: 138, Train loss: 4.9416, Val loss: 5.5398, Val Acc: 0.2519, LR = 0.000297, Epoch time = 21.85s\n"
     ]
    },
    {
     "name": "stderr",
     "output_type": "stream",
     "text": [
      "                                                             \r"
     ]
    },
    {
     "name": "stdout",
     "output_type": "stream",
     "text": [
      "Epoch: 139, Train loss: 4.9404, Val loss: 5.5463, Val Acc: 0.2552, LR = 0.000295, Epoch time = 21.86s\n"
     ]
    },
    {
     "name": "stderr",
     "output_type": "stream",
     "text": [
      "                                                             \r"
     ]
    },
    {
     "name": "stdout",
     "output_type": "stream",
     "text": [
      "Epoch: 140, Train loss: 4.9379, Val loss: 5.5516, Val Acc: 0.2516, LR = 0.000294, Epoch time = 21.86s\n"
     ]
    },
    {
     "name": "stderr",
     "output_type": "stream",
     "text": [
      "                                                             \r"
     ]
    },
    {
     "name": "stdout",
     "output_type": "stream",
     "text": [
      "Epoch: 141, Train loss: 4.9369, Val loss: 5.5326, Val Acc: 0.2599, LR = 0.000292, Epoch time = 21.85s\n"
     ]
    },
    {
     "name": "stderr",
     "output_type": "stream",
     "text": [
      "                                                             \r"
     ]
    },
    {
     "name": "stdout",
     "output_type": "stream",
     "text": [
      "Epoch: 142, Train loss: 4.9351, Val loss: 5.5430, Val Acc: 0.2575, LR = 0.000290, Epoch time = 21.85s\n"
     ]
    },
    {
     "name": "stderr",
     "output_type": "stream",
     "text": [
      "                                                             \r"
     ]
    },
    {
     "name": "stdout",
     "output_type": "stream",
     "text": [
      "Epoch: 143, Train loss: 4.9324, Val loss: 5.5531, Val Acc: 0.2484, LR = 0.000287, Epoch time = 21.85s\n"
     ]
    },
    {
     "name": "stderr",
     "output_type": "stream",
     "text": [
      "                                                             \r"
     ]
    },
    {
     "name": "stdout",
     "output_type": "stream",
     "text": [
      "Epoch: 144, Train loss: 4.9308, Val loss: 5.5457, Val Acc: 0.2525, LR = 0.000284, Epoch time = 21.85s\n"
     ]
    },
    {
     "name": "stderr",
     "output_type": "stream",
     "text": [
      "                                                             \r"
     ]
    },
    {
     "name": "stdout",
     "output_type": "stream",
     "text": [
      "Epoch: 145, Train loss: 4.9299, Val loss: 5.5415, Val Acc: 0.2518, LR = 0.000281, Epoch time = 21.86s\n"
     ]
    },
    {
     "name": "stderr",
     "output_type": "stream",
     "text": [
      "                                                             \r"
     ]
    },
    {
     "name": "stdout",
     "output_type": "stream",
     "text": [
      "Epoch: 146, Train loss: 4.9286, Val loss: 5.5400, Val Acc: 0.2599, LR = 0.000278, Epoch time = 21.85s\n"
     ]
    },
    {
     "name": "stderr",
     "output_type": "stream",
     "text": [
      "                                                             \r"
     ]
    },
    {
     "name": "stdout",
     "output_type": "stream",
     "text": [
      "Epoch: 147, Train loss: 4.9224, Val loss: 5.5437, Val Acc: 0.2566, LR = 0.000275, Epoch time = 21.86s\n"
     ]
    },
    {
     "name": "stderr",
     "output_type": "stream",
     "text": [
      "                                                             \r"
     ]
    },
    {
     "name": "stdout",
     "output_type": "stream",
     "text": [
      "Epoch: 148, Train loss: 4.9253, Val loss: 5.5328, Val Acc: 0.2523, LR = 0.000271, Epoch time = 21.85s\n"
     ]
    },
    {
     "name": "stderr",
     "output_type": "stream",
     "text": [
      "                                                             \r"
     ]
    },
    {
     "name": "stdout",
     "output_type": "stream",
     "text": [
      "Epoch: 149, Train loss: 4.9183, Val loss: 5.5402, Val Acc: 0.2582, LR = 0.000267, Epoch time = 21.85s\n"
     ]
    },
    {
     "name": "stderr",
     "output_type": "stream",
     "text": [
      "                                                             \r"
     ]
    },
    {
     "name": "stdout",
     "output_type": "stream",
     "text": [
      "Epoch: 150, Train loss: 4.9160, Val loss: 5.5416, Val Acc: 0.2565, LR = 0.000263, Epoch time = 21.86s\n"
     ]
    },
    {
     "name": "stderr",
     "output_type": "stream",
     "text": [
      "                                                             \r"
     ]
    },
    {
     "name": "stdout",
     "output_type": "stream",
     "text": [
      "Epoch: 151, Train loss: 4.9134, Val loss: 5.5383, Val Acc: 0.2548, LR = 0.000259, Epoch time = 21.85s\n"
     ]
    },
    {
     "name": "stderr",
     "output_type": "stream",
     "text": [
      "                                                             \r"
     ]
    },
    {
     "name": "stdout",
     "output_type": "stream",
     "text": [
      "Epoch: 152, Train loss: 4.9082, Val loss: 5.5406, Val Acc: 0.2548, LR = 0.000254, Epoch time = 21.86s\n"
     ]
    },
    {
     "name": "stderr",
     "output_type": "stream",
     "text": [
      "                                                             \r"
     ]
    },
    {
     "name": "stdout",
     "output_type": "stream",
     "text": [
      "Epoch: 153, Train loss: 4.9066, Val loss: 5.5457, Val Acc: 0.2567, LR = 0.000250, Epoch time = 21.85s\n"
     ]
    },
    {
     "name": "stderr",
     "output_type": "stream",
     "text": [
      "                                                             \r"
     ]
    },
    {
     "name": "stdout",
     "output_type": "stream",
     "text": [
      "Epoch: 154, Train loss: 4.9049, Val loss: 5.5233, Val Acc: 0.2555, LR = 0.000245, Epoch time = 21.85s\n"
     ]
    },
    {
     "name": "stderr",
     "output_type": "stream",
     "text": [
      "                                                             \r"
     ]
    },
    {
     "name": "stdout",
     "output_type": "stream",
     "text": [
      "Epoch: 155, Train loss: 4.8998, Val loss: 5.5340, Val Acc: 0.2557, LR = 0.000240, Epoch time = 21.85s\n"
     ]
    },
    {
     "name": "stderr",
     "output_type": "stream",
     "text": [
      "                                                             \r"
     ]
    },
    {
     "name": "stdout",
     "output_type": "stream",
     "text": [
      "Epoch: 156, Train loss: 4.8963, Val loss: 5.5367, Val Acc: 0.2539, LR = 0.000235, Epoch time = 21.85s\n"
     ]
    },
    {
     "name": "stderr",
     "output_type": "stream",
     "text": [
      "                                                             \r"
     ]
    },
    {
     "name": "stdout",
     "output_type": "stream",
     "text": [
      "Epoch: 157, Train loss: 4.8939, Val loss: 5.5348, Val Acc: 0.2515, LR = 0.000230, Epoch time = 21.85s\n"
     ]
    },
    {
     "name": "stderr",
     "output_type": "stream",
     "text": [
      "                                                             \r"
     ]
    },
    {
     "name": "stdout",
     "output_type": "stream",
     "text": [
      "Epoch: 158, Train loss: 4.8888, Val loss: 5.5297, Val Acc: 0.2559, LR = 0.000224, Epoch time = 21.84s\n"
     ]
    },
    {
     "name": "stderr",
     "output_type": "stream",
     "text": [
      "                                                             \r"
     ]
    },
    {
     "name": "stdout",
     "output_type": "stream",
     "text": [
      "Epoch: 159, Train loss: 4.8852, Val loss: 5.5251, Val Acc: 0.2616, LR = 0.000219, Epoch time = 21.84s\n",
      "(model saved)\n"
     ]
    },
    {
     "name": "stderr",
     "output_type": "stream",
     "text": [
      "                                                             \r"
     ]
    },
    {
     "name": "stdout",
     "output_type": "stream",
     "text": [
      "Epoch: 160, Train loss: 4.8825, Val loss: 5.5350, Val Acc: 0.2503, LR = 0.000213, Epoch time = 21.85s\n"
     ]
    },
    {
     "name": "stderr",
     "output_type": "stream",
     "text": [
      "                                                             \r"
     ]
    },
    {
     "name": "stdout",
     "output_type": "stream",
     "text": [
      "Epoch: 161, Train loss: 4.8785, Val loss: 5.5286, Val Acc: 0.2526, LR = 0.000207, Epoch time = 21.86s\n"
     ]
    },
    {
     "name": "stderr",
     "output_type": "stream",
     "text": [
      "                                                             \r"
     ]
    },
    {
     "name": "stdout",
     "output_type": "stream",
     "text": [
      "Epoch: 162, Train loss: 4.8789, Val loss: 5.5405, Val Acc: 0.2553, LR = 0.000202, Epoch time = 21.86s\n"
     ]
    },
    {
     "name": "stderr",
     "output_type": "stream",
     "text": [
      "                                                             \r"
     ]
    },
    {
     "name": "stdout",
     "output_type": "stream",
     "text": [
      "Epoch: 163, Train loss: 4.8725, Val loss: 5.5283, Val Acc: 0.2542, LR = 0.000196, Epoch time = 21.85s\n"
     ]
    },
    {
     "name": "stderr",
     "output_type": "stream",
     "text": [
      "                                                             \r"
     ]
    },
    {
     "name": "stdout",
     "output_type": "stream",
     "text": [
      "Epoch: 164, Train loss: 4.8668, Val loss: 5.5355, Val Acc: 0.2594, LR = 0.000190, Epoch time = 21.86s\n"
     ]
    },
    {
     "name": "stderr",
     "output_type": "stream",
     "text": [
      "                                                             \r"
     ]
    },
    {
     "name": "stdout",
     "output_type": "stream",
     "text": [
      "Epoch: 165, Train loss: 4.8669, Val loss: 5.5341, Val Acc: 0.2545, LR = 0.000184, Epoch time = 21.85s\n"
     ]
    },
    {
     "name": "stderr",
     "output_type": "stream",
     "text": [
      "                                                             \r"
     ]
    },
    {
     "name": "stdout",
     "output_type": "stream",
     "text": [
      "Epoch: 166, Train loss: 4.8610, Val loss: 5.5263, Val Acc: 0.2546, LR = 0.000178, Epoch time = 21.86s\n"
     ]
    },
    {
     "name": "stderr",
     "output_type": "stream",
     "text": [
      "                                                             \r"
     ]
    },
    {
     "name": "stdout",
     "output_type": "stream",
     "text": [
      "Epoch: 167, Train loss: 4.8602, Val loss: 5.5270, Val Acc: 0.2558, LR = 0.000173, Epoch time = 21.85s\n"
     ]
    },
    {
     "name": "stderr",
     "output_type": "stream",
     "text": [
      "                                                             \r"
     ]
    },
    {
     "name": "stdout",
     "output_type": "stream",
     "text": [
      "Epoch: 168, Train loss: 4.8548, Val loss: 5.5361, Val Acc: 0.2575, LR = 0.000167, Epoch time = 21.86s\n"
     ]
    },
    {
     "name": "stderr",
     "output_type": "stream",
     "text": [
      "                                                             \r"
     ]
    },
    {
     "name": "stdout",
     "output_type": "stream",
     "text": [
      "Epoch: 169, Train loss: 4.8512, Val loss: 5.5211, Val Acc: 0.2567, LR = 0.000161, Epoch time = 21.85s\n"
     ]
    },
    {
     "name": "stderr",
     "output_type": "stream",
     "text": [
      "                                                             \r"
     ]
    },
    {
     "name": "stdout",
     "output_type": "stream",
     "text": [
      "Epoch: 170, Train loss: 4.8464, Val loss: 5.5290, Val Acc: 0.2552, LR = 0.000155, Epoch time = 21.85s\n"
     ]
    },
    {
     "name": "stderr",
     "output_type": "stream",
     "text": [
      "                                                             \r"
     ]
    },
    {
     "name": "stdout",
     "output_type": "stream",
     "text": [
      "Epoch: 171, Train loss: 4.8452, Val loss: 5.5252, Val Acc: 0.2576, LR = 0.000149, Epoch time = 21.86s\n"
     ]
    },
    {
     "name": "stderr",
     "output_type": "stream",
     "text": [
      "                                                             \r"
     ]
    },
    {
     "name": "stdout",
     "output_type": "stream",
     "text": [
      "Epoch: 172, Train loss: 4.8395, Val loss: 5.5276, Val Acc: 0.2548, LR = 0.000143, Epoch time = 21.85s\n"
     ]
    },
    {
     "name": "stderr",
     "output_type": "stream",
     "text": [
      "                                                             \r"
     ]
    },
    {
     "name": "stdout",
     "output_type": "stream",
     "text": [
      "Epoch: 173, Train loss: 4.8376, Val loss: 5.5233, Val Acc: 0.2582, LR = 0.000138, Epoch time = 21.86s\n"
     ]
    },
    {
     "name": "stderr",
     "output_type": "stream",
     "text": [
      "                                                             \r"
     ]
    },
    {
     "name": "stdout",
     "output_type": "stream",
     "text": [
      "Epoch: 174, Train loss: 4.8328, Val loss: 5.5183, Val Acc: 0.2618, LR = 0.000132, Epoch time = 21.86s\n",
      "(model saved)\n"
     ]
    },
    {
     "name": "stderr",
     "output_type": "stream",
     "text": [
      "                                                             \r"
     ]
    },
    {
     "name": "stdout",
     "output_type": "stream",
     "text": [
      "Epoch: 175, Train loss: 4.8327, Val loss: 5.5223, Val Acc: 0.2607, LR = 0.000127, Epoch time = 21.86s\n"
     ]
    },
    {
     "name": "stderr",
     "output_type": "stream",
     "text": [
      "                                                             \r"
     ]
    },
    {
     "name": "stdout",
     "output_type": "stream",
     "text": [
      "Epoch: 176, Train loss: 4.8293, Val loss: 5.5174, Val Acc: 0.2563, LR = 0.000121, Epoch time = 21.86s\n"
     ]
    },
    {
     "name": "stderr",
     "output_type": "stream",
     "text": [
      "                                                             \r"
     ]
    },
    {
     "name": "stdout",
     "output_type": "stream",
     "text": [
      "Epoch: 177, Train loss: 4.8248, Val loss: 5.5157, Val Acc: 0.2635, LR = 0.000116, Epoch time = 21.86s\n",
      "(model saved)\n"
     ]
    },
    {
     "name": "stderr",
     "output_type": "stream",
     "text": [
      "                                                             \r"
     ]
    },
    {
     "name": "stdout",
     "output_type": "stream",
     "text": [
      "Epoch: 178, Train loss: 4.8240, Val loss: 5.5145, Val Acc: 0.2589, LR = 0.000111, Epoch time = 21.87s\n"
     ]
    },
    {
     "name": "stderr",
     "output_type": "stream",
     "text": [
      "                                                             \r"
     ]
    },
    {
     "name": "stdout",
     "output_type": "stream",
     "text": [
      "Epoch: 179, Train loss: 4.8210, Val loss: 5.5198, Val Acc: 0.2597, LR = 0.000106, Epoch time = 21.87s\n"
     ]
    },
    {
     "name": "stderr",
     "output_type": "stream",
     "text": [
      "                                                             \r"
     ]
    },
    {
     "name": "stdout",
     "output_type": "stream",
     "text": [
      "Epoch: 180, Train loss: 4.8164, Val loss: 5.5178, Val Acc: 0.2600, LR = 0.000101, Epoch time = 21.85s\n"
     ]
    },
    {
     "name": "stderr",
     "output_type": "stream",
     "text": [
      "                                                             \r"
     ]
    },
    {
     "name": "stdout",
     "output_type": "stream",
     "text": [
      "Epoch: 181, Train loss: 4.8150, Val loss: 5.5218, Val Acc: 0.2605, LR = 0.000096, Epoch time = 21.86s\n"
     ]
    },
    {
     "name": "stderr",
     "output_type": "stream",
     "text": [
      "                                                             \r"
     ]
    },
    {
     "name": "stdout",
     "output_type": "stream",
     "text": [
      "Epoch: 182, Train loss: 4.8080, Val loss: 5.5195, Val Acc: 0.2603, LR = 0.000092, Epoch time = 21.87s\n"
     ]
    },
    {
     "name": "stderr",
     "output_type": "stream",
     "text": [
      "                                                             \r"
     ]
    },
    {
     "name": "stdout",
     "output_type": "stream",
     "text": [
      "Epoch: 183, Train loss: 4.8068, Val loss: 5.5138, Val Acc: 0.2594, LR = 0.000088, Epoch time = 21.86s\n"
     ]
    },
    {
     "name": "stderr",
     "output_type": "stream",
     "text": [
      "                                                             \r"
     ]
    },
    {
     "name": "stdout",
     "output_type": "stream",
     "text": [
      "Epoch: 184, Train loss: 4.8059, Val loss: 5.5197, Val Acc: 0.2637, LR = 0.000083, Epoch time = 21.86s\n",
      "(model saved)\n"
     ]
    },
    {
     "name": "stderr",
     "output_type": "stream",
     "text": [
      "                                                             \r"
     ]
    },
    {
     "name": "stdout",
     "output_type": "stream",
     "text": [
      "Epoch: 185, Train loss: 4.8026, Val loss: 5.5191, Val Acc: 0.2641, LR = 0.000080, Epoch time = 21.87s\n",
      "(model saved)\n"
     ]
    },
    {
     "name": "stderr",
     "output_type": "stream",
     "text": [
      "                                                             \r"
     ]
    },
    {
     "name": "stdout",
     "output_type": "stream",
     "text": [
      "Epoch: 186, Train loss: 4.8017, Val loss: 5.5114, Val Acc: 0.2651, LR = 0.000076, Epoch time = 21.86s\n",
      "(model saved)\n"
     ]
    },
    {
     "name": "stderr",
     "output_type": "stream",
     "text": [
      "                                                             \r"
     ]
    },
    {
     "name": "stdout",
     "output_type": "stream",
     "text": [
      "Epoch: 187, Train loss: 4.8004, Val loss: 5.5161, Val Acc: 0.2618, LR = 0.000072, Epoch time = 21.87s\n"
     ]
    },
    {
     "name": "stderr",
     "output_type": "stream",
     "text": [
      "                                                             \r"
     ]
    },
    {
     "name": "stdout",
     "output_type": "stream",
     "text": [
      "Epoch: 188, Train loss: 4.7954, Val loss: 5.5109, Val Acc: 0.2636, LR = 0.000069, Epoch time = 21.86s\n"
     ]
    },
    {
     "name": "stderr",
     "output_type": "stream",
     "text": [
      "                                                             \r"
     ]
    },
    {
     "name": "stdout",
     "output_type": "stream",
     "text": [
      "Epoch: 189, Train loss: 4.7936, Val loss: 5.5098, Val Acc: 0.2602, LR = 0.000066, Epoch time = 21.85s\n"
     ]
    },
    {
     "name": "stderr",
     "output_type": "stream",
     "text": [
      "                                                             \r"
     ]
    },
    {
     "name": "stdout",
     "output_type": "stream",
     "text": [
      "Epoch: 190, Train loss: 4.7921, Val loss: 5.5126, Val Acc: 0.2649, LR = 0.000063, Epoch time = 21.86s\n"
     ]
    },
    {
     "name": "stderr",
     "output_type": "stream",
     "text": [
      "                                                             \r"
     ]
    },
    {
     "name": "stdout",
     "output_type": "stream",
     "text": [
      "Epoch: 191, Train loss: 4.7909, Val loss: 5.5151, Val Acc: 0.2648, LR = 0.000061, Epoch time = 21.87s\n"
     ]
    },
    {
     "name": "stderr",
     "output_type": "stream",
     "text": [
      "                                                             \r"
     ]
    },
    {
     "name": "stdout",
     "output_type": "stream",
     "text": [
      "Epoch: 192, Train loss: 4.7887, Val loss: 5.5110, Val Acc: 0.2616, LR = 0.000059, Epoch time = 21.85s\n"
     ]
    },
    {
     "name": "stderr",
     "output_type": "stream",
     "text": [
      "                                                             \r"
     ]
    },
    {
     "name": "stdout",
     "output_type": "stream",
     "text": [
      "Epoch: 193, Train loss: 4.7884, Val loss: 5.5148, Val Acc: 0.2608, LR = 0.000057, Epoch time = 21.85s\n"
     ]
    },
    {
     "name": "stderr",
     "output_type": "stream",
     "text": [
      "                                                             \r"
     ]
    },
    {
     "name": "stdout",
     "output_type": "stream",
     "text": [
      "Epoch: 194, Train loss: 4.7858, Val loss: 5.5141, Val Acc: 0.2610, LR = 0.000055, Epoch time = 21.85s\n"
     ]
    },
    {
     "name": "stderr",
     "output_type": "stream",
     "text": [
      "                                                             \r"
     ]
    },
    {
     "name": "stdout",
     "output_type": "stream",
     "text": [
      "Epoch: 195, Train loss: 4.7865, Val loss: 5.5171, Val Acc: 0.2644, LR = 0.000053, Epoch time = 21.86s\n"
     ]
    },
    {
     "name": "stderr",
     "output_type": "stream",
     "text": [
      "                                                             \r"
     ]
    },
    {
     "name": "stdout",
     "output_type": "stream",
     "text": [
      "Epoch: 196, Train loss: 4.7857, Val loss: 5.5159, Val Acc: 0.2630, LR = 0.000052, Epoch time = 21.85s\n"
     ]
    },
    {
     "name": "stderr",
     "output_type": "stream",
     "text": [
      "                                                             \r"
     ]
    },
    {
     "name": "stdout",
     "output_type": "stream",
     "text": [
      "Epoch: 197, Train loss: 4.7818, Val loss: 5.5123, Val Acc: 0.2639, LR = 0.000051, Epoch time = 21.85s\n"
     ]
    },
    {
     "name": "stderr",
     "output_type": "stream",
     "text": [
      "                                                             \r"
     ]
    },
    {
     "name": "stdout",
     "output_type": "stream",
     "text": [
      "Epoch: 198, Train loss: 4.7829, Val loss: 5.5166, Val Acc: 0.2646, LR = 0.000050, Epoch time = 21.85s\n"
     ]
    },
    {
     "name": "stderr",
     "output_type": "stream",
     "text": [
      "                                                             \r"
     ]
    },
    {
     "name": "stdout",
     "output_type": "stream",
     "text": [
      "Epoch: 199, Train loss: 4.7785, Val loss: 5.5225, Val Acc: 0.2614, LR = 0.000050, Epoch time = 21.85s\n"
     ]
    },
    {
     "name": "stderr",
     "output_type": "stream",
     "text": [
      "                                                             "
     ]
    },
    {
     "name": "stdout",
     "output_type": "stream",
     "text": [
      "Epoch: 200, Train loss: 4.7864, Val loss: 5.5348, Val Acc: 0.2581, LR = 0.000300, Epoch time = 21.85s\n"
     ]
    },
    {
     "name": "stderr",
     "output_type": "stream",
     "text": [
      "\r"
     ]
    }
   ],
   "source": [
    "from timeit import default_timer as timer\n",
    "transformer = transformer.to(DEVICE)\n",
    "\n",
    "best_acc = 0\n",
    "saved_epoch = 0\n",
    "history = []\n",
    "for epoch in range(1, NUM_EPOCHS+1):\n",
    "    lrs = []\n",
    "    result = {'train_loss': [], 'valid_loss': [], 'valid_acc': [], 'lrs': []}\n",
    "    \n",
    "    start_time = timer()\n",
    "    train_loss = train_epoch(transformer, optimizer, cn_to_en_train_loader, scheduler, distillation=DISTILLATION)\n",
    "    lrs =  scheduler.get_last_lr()\n",
    "    end_time = timer()\n",
    "    val_loss, val_acc = evaluate(transformer, cn_to_en_test_loader)\n",
    "\n",
    "    print((f\"Epoch: {epoch}, Train loss: {train_loss:.4f}, Val loss: {val_loss:.4f}, Val Acc: {val_acc:.4f}, LR = {lrs[0]:.6f}, \"f\"Epoch time = {(end_time - start_time):.2f}s\"))\n",
    "\n",
    "\n",
    "    result['train_loss'] = train_loss\n",
    "    result['valid_loss'] = val_loss\n",
    "    result['valid_acc'] = val_acc\n",
    "    result['lrs'] = lrs\n",
    "    history.append(result)\n",
    "\n",
    "    # Save the best model so far.\n",
    "    if val_acc > best_acc: \n",
    "        best_acc = val_acc\n",
    "        best_state_dict = transformer.state_dict()\n",
    "        saved_epoch = epoch\n",
    "        torch.save(best_state_dict, MODEL_SAVE_PATH)\n",
    "        print(\"(model saved)\")\n"
   ]
  },
  {
   "cell_type": "code",
   "execution_count": 51,
   "id": "57816e2f",
   "metadata": {},
   "outputs": [
    {
     "name": "stdout",
     "output_type": "stream",
     "text": [
      "Best model was saved at epoch 186, with validation accuracy: 0.2651\n"
     ]
    }
   ],
   "source": [
    "print(f\"Best model was saved at epoch {saved_epoch}, with validation accuracy: {best_acc:.4f}\")"
   ]
  },
  {
   "cell_type": "markdown",
   "id": "fe1c0699-b80e-40eb-b7b0-0906b09784c0",
   "metadata": {},
   "source": [
    "# Inference"
   ]
  },
  {
   "cell_type": "code",
   "execution_count": 52,
   "id": "b1c34d85",
   "metadata": {},
   "outputs": [],
   "source": [
    "def generate_square_subsequent_mask(sz):\n",
    "    mask = torch.triu(torch.ones((sz, sz), dtype=torch.bool), diagonal=1) \n",
    "    return mask"
   ]
  },
  {
   "cell_type": "code",
   "execution_count": 53,
   "id": "47e06c7d-8ba4-4761-86f2-b7db7ed6b3a0",
   "metadata": {},
   "outputs": [],
   "source": [
    "# function to generate output sequence using greedy algorithm\n",
    "def greedy_decode(model, src, src_mask, max_len, start_symbol):\n",
    "    src = src.to(DEVICE)\n",
    "    src_mask = src_mask.to(DEVICE)\n",
    "\n",
    "    memory = model.encode(src, src_padding_mask=src_mask)\n",
    "    ys = torch.ones(1, 1).fill_(start_symbol).type(torch.long).to(DEVICE)\n",
    "    for i in range(max_len-1):\n",
    "        memory = memory.to(DEVICE)\n",
    "        tgt_padding_mask = torch.zeros(1, ys.size(0)).type(torch.bool).to(DEVICE)  # target padding mask\n",
    "        tgt_mask = (generate_square_subsequent_mask(ys.size(0)).type(torch.bool)).to(DEVICE)  # target causal mask\n",
    "        out = model.decode(ys, memory, src_padding_mask=src_mask, tgt_padding_mask=tgt_padding_mask, tgt_future_mask=tgt_mask)\n",
    "        out = out.transpose(0, 1)\n",
    "        prob = model.generator(out[:, -1])\n",
    "        _, next_word = torch.max(prob, dim=1)\n",
    "        next_word = next_word.item()\n",
    "\n",
    "        ys = torch.cat([ys, torch.ones(1, 1).type_as(src.data).fill_(next_word)], dim=0)\n",
    "        if next_word == EOS_IDX:\n",
    "            break\n",
    "    return ys\n",
    "\n",
    "\n",
    "# actual function to translate input sentence into target language\n",
    "def translate(model: torch.nn.Module, src_sentence: str, input_tokenizer, output_tokenizer):\n",
    "    model.eval()\n",
    "    sentence = input_tokenizer.encode(src_sentence)\n",
    "    sentence = torch.tensor(sentence).view(-1, 1)\n",
    "    num_tokens = sentence.shape[0]\n",
    "    \n",
    "    src_mask = torch.zeros(1, num_tokens).type(torch.bool)  # source padding mask\n",
    "    tgt_tokens = greedy_decode(model, sentence, src_mask, max_len=num_tokens + 5, start_symbol=BOS_IDX).flatten()\n",
    "    output_sentence = output_tokenizer.decode(tgt_tokens, skip_special_tokens=True)\n",
    "    return output_sentence"
   ]
  },
  {
   "cell_type": "markdown",
   "id": "41175b6f-7fb5-48d2-bc7c-3b9cff764d17",
   "metadata": {},
   "source": [
    "## Load best model"
   ]
  },
  {
   "cell_type": "code",
   "execution_count": 54,
   "id": "f3198b31-30a3-46aa-bb02-22913de7909e",
   "metadata": {},
   "outputs": [
    {
     "name": "stderr",
     "output_type": "stream",
     "text": [
      "/tmp/ipykernel_410749/2163959858.py:4: FutureWarning: You are using `torch.load` with `weights_only=False` (the current default value), which uses the default pickle module implicitly. It is possible to construct malicious pickle data which will execute arbitrary code during unpickling (See https://github.com/pytorch/pytorch/blob/main/SECURITY.md#untrusted-models for more details). In a future release, the default value for `weights_only` will be flipped to `True`. This limits the functions that could be executed during unpickling. Arbitrary objects will no longer be allowed to be loaded via this mode unless they are explicitly allowlisted by the user via `torch.serialization.add_safe_globals`. We recommend you start setting `weights_only=True` for any use case where you don't have full control of the loaded file. Please open an issue on GitHub for any issues related to this experimental feature.\n",
      "  transformer.load_state_dict(torch.load(\"model.ckpt\"))\n"
     ]
    },
    {
     "data": {
      "text/plain": [
       "<All keys matched successfully>"
      ]
     },
     "execution_count": 54,
     "metadata": {},
     "output_type": "execute_result"
    }
   ],
   "source": [
    "transformer = Seq2SeqNetwork(NUM_ENCODER_LAYERS, NUM_DECODER_LAYERS, EMB_SIZE,\n",
    "                                 NHEAD, SRC_VOCAB_SIZE, TGT_VOCAB_SIZE, FFN_HID_DIM)\n",
    "transformer.to(DEVICE)\n",
    "transformer.load_state_dict(torch.load(\"model.ckpt\"))"
   ]
  },
  {
   "cell_type": "markdown",
   "id": "560658f5-a89e-464b-8e08-8955dafc68c0",
   "metadata": {},
   "source": [
    "## Translation testing"
   ]
  },
  {
   "cell_type": "code",
   "execution_count": 55,
   "id": "a44dc1b7-38be-4692-9981-dea8845dd9d3",
   "metadata": {},
   "outputs": [
    {
     "name": "stdout",
     "output_type": "stream",
     "text": [
      "Input:         : 你好，欢迎来到中国\n",
      "Prediction     : You'll welcome to China.\n",
      "Ground truth   : Hello, welcome to China.\n",
      "Bleu Score (1gram):  0.75\n",
      "Bleu Score (2gram):  0.7071068286895752\n",
      "Bleu Score (3gram):  0.6299605369567871\n",
      "Bleu Score (4gram):  0.0\n"
     ]
    }
   ],
   "source": [
    "sentence = \"你好，欢迎来到中国\"\n",
    "ground_truth = 'Hello, welcome to China.'\n",
    "predicted = translate(transformer, sentence, tokenizer_cn, tokenizer_en)\n",
    "\n",
    "print(f'{\"Input:\":15s}: {sentence}')\n",
    "print(f'{\"Prediction\":15s}: {predicted}')\n",
    "print(f'{\"Ground truth\":15s}: {ground_truth}')\n",
    "print(\"Bleu Score (1gram): \", bleu_score_func(predicted.lower(), ground_truth.lower(), 1).item())\n",
    "print(\"Bleu Score (2gram): \", bleu_score_func(predicted.lower(), ground_truth.lower(), 2).item())\n",
    "print(\"Bleu Score (3gram): \", bleu_score_func(predicted.lower(), ground_truth.lower(), 3).item())\n",
    "print(\"Bleu Score (4gram): \", bleu_score_func(predicted.lower(), ground_truth.lower(), 4).item())"
   ]
  },
  {
   "cell_type": "code",
   "execution_count": 56,
   "id": "7b7ed8be-73ba-441c-8490-3ad93ead9f91",
   "metadata": {},
   "outputs": [
    {
     "name": "stdout",
     "output_type": "stream",
     "text": [
      "Input:         : 早上好，很高兴见到你\n",
      "Prediction     : Good morning, very happy, very happy to see you.\n",
      "Ground truth   : Good morning, nice to meet you.\n",
      "Bleu Score (1gram):  0.4444444477558136\n",
      "Bleu Score (2gram):  0.235702246427536\n",
      "Bleu Score (3gram):  0.0\n",
      "Bleu Score (4gram):  0.0\n"
     ]
    }
   ],
   "source": [
    "sentence = \"早上好，很高兴见到你\"\n",
    "ground_truth = 'Good morning, nice to meet you.'\n",
    "predicted = translate(transformer, sentence, tokenizer_cn, tokenizer_en)\n",
    "\n",
    "print(f'{\"Input:\":15s}: {sentence}')\n",
    "print(f'{\"Prediction\":15s}: {predicted}')\n",
    "print(f'{\"Ground truth\":15s}: {ground_truth}')\n",
    "print(\"Bleu Score (1gram): \", bleu_score_func(predicted.lower(), ground_truth.lower(), 1).item())\n",
    "print(\"Bleu Score (2gram): \", bleu_score_func(predicted.lower(), ground_truth.lower(), 2).item())\n",
    "print(\"Bleu Score (3gram): \", bleu_score_func(predicted.lower(), ground_truth.lower(), 3).item())\n",
    "print(\"Bleu Score (4gram): \", bleu_score_func(predicted.lower(), ground_truth.lower(), 4).item())"
   ]
  },
  {
   "cell_type": "code",
   "execution_count": 57,
   "id": "12708039-9697-4918-b7f7-1dfa09cff76e",
   "metadata": {},
   "outputs": [
    {
     "name": "stdout",
     "output_type": "stream",
     "text": [
      "Input:         : 祝您有个美好的一天\n",
      "Prediction     : I wish you have a good day.\n",
      "Ground truth   : Have a nice day.\n",
      "Bleu Score (1gram):  0.4285714328289032\n",
      "Bleu Score (2gram):  0.26726123690605164\n",
      "Bleu Score (3gram):  0.0\n",
      "Bleu Score (4gram):  0.0\n"
     ]
    }
   ],
   "source": [
    "sentence = \"祝您有个美好的一天\"\n",
    "ground_truth = 'Have a nice day.'\n",
    "predicted = translate(transformer, sentence, tokenizer_cn, tokenizer_en)\n",
    "\n",
    "print(f'{\"Input:\":15s}: {sentence}')\n",
    "print(f'{\"Prediction\":15s}: {predicted}')\n",
    "print(f'{\"Ground truth\":15s}: {ground_truth}')\n",
    "print(\"Bleu Score (1gram): \", bleu_score_func(predicted.lower(), ground_truth.lower(), 1).item())\n",
    "print(\"Bleu Score (2gram): \", bleu_score_func(predicted.lower(), ground_truth.lower(), 2).item())\n",
    "print(\"Bleu Score (3gram): \", bleu_score_func(predicted.lower(), ground_truth.lower(), 3).item())\n",
    "print(\"Bleu Score (4gram): \", bleu_score_func(predicted.lower(), ground_truth.lower(), 4).item())"
   ]
  },
  {
   "cell_type": "markdown",
   "id": "5e100e5e",
   "metadata": {},
   "source": [
    "# Print result"
   ]
  },
  {
   "cell_type": "code",
   "execution_count": 58,
   "id": "56011378",
   "metadata": {},
   "outputs": [
    {
     "data": {
      "image/png": "[encoded data removed]",
      "text/plain": [
       "<Figure size 640x480 with 1 Axes>"
      ]
     },
     "metadata": {},
     "output_type": "display_data"
    }
   ],
   "source": [
    "def plot_lrs(history):\n",
    "  lrs = np.concatenate([x.get('lrs', []) for x in history])\n",
    "  plt.plot(lrs)\n",
    "  plt.xlabel('Batch no.')\n",
    "  plt.ylabel('Learning rate')\n",
    "  plt.title('Learning Rate vs. Batch no.')\n",
    "\n",
    "plot_lrs(history)"
   ]
  },
  {
   "cell_type": "code",
   "execution_count": 59,
   "id": "4d08aaa4",
   "metadata": {},
   "outputs": [
    {
     "data": {
      "image/png": "[encoded data removed]",
      "text/plain": [
       "<Figure size 640x480 with 2 Axes>"
      ]
     },
     "metadata": {},
     "output_type": "display_data"
    }
   ],
   "source": [
    "import matplotlib.pyplot as plt\n",
    "\n",
    "def plot_losses(history):\n",
    "    train_losses = [x.get('train_loss') for x in history]\n",
    "    val_losses = [x['valid_loss'] for x in history]\n",
    "    val_acces = [x['valid_acc'] for x in history]\n",
    "    \n",
    "    # Create a figure and axis\n",
    "    fig, ax1 = plt.subplots()\n",
    "\n",
    "    # Plot train and validation losses on the left y-axis\n",
    "    lns1 = ax1.plot(train_losses, '-c', label='Train_loss')\n",
    "    lns2 = ax1.plot(val_losses, '-b', label='Valid_loss')\n",
    "    ax1.set_xlabel('epoch')\n",
    "    ax1.set_ylabel('loss', color='k')\n",
    "    ax1.tick_params(axis='y', labelcolor='k')\n",
    "\n",
    "    # Create a second y-axis for validation accuracy\n",
    "    ax2 = ax1.twinx()\n",
    "    lns3 = ax2.plot(val_acces, '-r', label='Valid_acc')\n",
    "    ax2.set_ylabel('accuracy', color='k')\n",
    "    ax2.tick_params(axis='y', labelcolor='k')\n",
    "\n",
    "    # Combine legends for both axes and manually adjust the order\n",
    "    lns = lns1 + lns2 + lns3\n",
    "    labels = [l.get_label() for l in lns]\n",
    "    ax1.legend(lns, labels, loc='upper right', bbox_to_anchor=(1.35, 1))\n",
    "\n",
    "    # Show the plot\n",
    "    plt.show()\n",
    "\n",
    "plot_losses(history)\n"
   ]
  }
 ],
 "metadata": {
  "kernelspec": {
   "display_name": "torch",
   "language": "python",
   "name": "python3"
  },
  "language_info": {
   "codemirror_mode": {
    "name": "ipython",
    "version": 3
   },
   "file_extension": ".py",
   "mimetype": "text/x-python",
   "name": "python",
   "nbconvert_exporter": "python",
   "pygments_lexer": "ipython3",
   "version": "3.8.19"
  }
 },
 "nbformat": 4,
 "nbformat_minor": 5
}
